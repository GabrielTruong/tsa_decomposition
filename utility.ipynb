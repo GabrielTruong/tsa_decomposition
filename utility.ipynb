{
 "cells": [
  {
   "cell_type": "code",
   "execution_count": 5,
   "metadata": {},
   "outputs": [],
   "source": [
    "#import the needed libraries\n",
    "import pandas as pd \n",
    "import matplotlib.pyplot as plt\n",
    "import numpy as np\n",
    "from sklearn.model_selection import train_test_split\n",
    "import plotly.graph_objects as go"
   ]
  },
  {
   "cell_type": "markdown",
   "metadata": {},
   "source": [
    "# Cleaning"
   ]
  },
  {
   "cell_type": "code",
   "execution_count": 3,
   "metadata": {},
   "outputs": [],
   "source": [
    "#import the dataset\n",
    "file=\"Service Clients Darty 2017-2021.xlsx\"\n",
    "df = pd.read_excel(file)\n",
    "\n",
    "#delete the useless columns for this study\n",
    "df=df.drop(columns=[\"Unnamed: 4\",'Unnamed: 3',\"Appels EGP\"])\n",
    "\n",
    "#from the 1/10/21 the column \"appels\" is empty, drop these values\n",
    "df.dropna(inplace=True)\n",
    "\n",
    "#check the type of the columns \"appels\"\n",
    "df.dtypes\n",
    "\n",
    "#split the data\n",
    "train_df,test_df=df[:1095],df[1095:]\n",
    "train_df,test_df=train_df.copy(),test_df.copy()\n",
    "\n",
    "#set the date as index\n",
    "train_df.set_index('Date',inplace=True)\n",
    "test_df.set_index('Date',inplace=True)"
   ]
  },
  {
   "cell_type": "markdown",
   "metadata": {},
   "source": [
    "# Definition of the functions"
   ]
  },
  {
   "cell_type": "code",
   "execution_count": 4,
   "metadata": {},
   "outputs": [],
   "source": [
    "def resample_df(df, freq):\n",
    "    \"\"\"\n",
    "    Resample a dataframe to a given frequency\n",
    "    args: \n",
    "    - df: dataframe to resample\n",
    "    - freq: string that gives the frequency ie. 'Y','W','M'\n",
    "    \n",
    "    returns: resampled dataframe\n",
    "    \"\"\"\n",
    "    return df.resample(freq).sum()"
   ]
  },
  {
   "cell_type": "code",
   "execution_count": 10,
   "metadata": {},
   "outputs": [],
   "source": [
    "def compute_mean_std(df,period,season):\n",
    "\n",
    "    \"\"\"\n",
    "    Compute the seasonal means and the seasonal standard deviations for a sample based on a periodicity and a seasonality\n",
    "    args:\n",
    "    - df : dataframe representing a time serie\n",
    "    - season : string that gives the seasonality ie. 'W','M','D'\n",
    "    - period : string that gives the periodicity ie. 'Y','W','M'\n",
    "\n",
    "    returns: plot the seasonal means and the seasonal standard deviations \n",
    "\n",
    "    \"\"\"\n",
    "\n",
    "    #resample the df\n",
    "    if season!='D':\n",
    "        sample_df=resample_df(df, season)\n",
    "    else :\n",
    "        sample_df=df\n",
    "\n",
    "\n",
    "    #group the df by periods\n",
    "    if period=='Y':\n",
    "        size=3\n",
    "        big_group=sample_df.groupby(sample_df.index.year)\n",
    "\n",
    "    elif period=='M':\n",
    "        size=12*3\n",
    "        big_group=sample_df.groupby(sample_df.index.month)\n",
    "    \n",
    "    elif period=='W':\n",
    "        size=52*3\n",
    "        big_group=sample_df.groupby(sample_df.index.isocalendar().week)\n",
    "    else:\n",
    "        return \"cannot compute\"\n",
    "  \n",
    "\n",
    "    #aggregate in a dicitonnary the periods\n",
    "    params = {}\n",
    "    for name, group in big_group:\n",
    "        params[f\"{name}\"] = group.reset_index().Appels\n",
    "    \n",
    "    #compute the season means\n",
    "    params_df=pd.DataFrame.from_dict(params)\n",
    "    params_df.dropna(axis=1,thresh=2,inplace=True)\n",
    "    params_df.dropna(axis=0,inplace=True)\n",
    "    season_total_df=pd.DataFrame.from_dict(params_df).sum(axis=1)\n",
    "    \n",
    "    #compute Season Standard deviation\n",
    "    season_mean=season_total_df/size\n",
    "    \n",
    "    #compute the pooled Standard deviation\n",
    "    pooled_std_df=[]\n",
    "    n=len(season_mean)\n",
    "    for i in range(n):\n",
    "        s=0\n",
    "        for key in params:\n",
    "            a=params[key][i]-season_mean[i]\n",
    "            s+=a**2\n",
    "        s=np.sqrt((1/(size-1))*s)\n",
    "        pooled_std_df.append(s)\n",
    "\n",
    "\n",
    "    return(season_mean,pooled_std_df)"
   ]
  },
  {
   "cell_type": "code",
   "execution_count": null,
   "metadata": {},
   "outputs": [],
   "source": [
    "\n",
    "def plot_decomposition_type(mean_df,std_df):\n",
    "    \"\"\"\n",
    "    Relationship between the seasonal means and the seasonal standard deviations\n",
    "    args: \n",
    "    - mean_df: dataframe with means values\n",
    "    - std_df: dataframe with std values\n",
    "    \n",
    "    returns: plot of the seasonal means and the pooled standard deviations\n",
    "    \"\"\"\n",
    "\n",
    "    fig = go.Figure()\n",
    "    fig.add_trace(go.Scatter(x=mean_df.index, y=mean_df,name=\"Seasonal mean\",line = dict(color='black', width=2)))\n",
    "    fig.add_trace(go.Scatter(x=mean_df.index, y=std_df,name=\"Seasonal standard deviation\",line = dict(color='black', width=1, dash='dash')))\n",
    "    fig.update_layout(title='Relationship between the seasonal means and the seasonal pooled standard deviations',\n",
    "                    xaxis_title='Period',\n",
    "                    yaxis_title='NUmber of calls')\n",
    "\n",
    "    fig.show()"
   ]
  }
 ],
 "metadata": {
  "kernelspec": {
   "display_name": "Python 3.8.8 ('base')",
   "language": "python",
   "name": "python3"
  },
  "language_info": {
   "codemirror_mode": {
    "name": "ipython",
    "version": 3
   },
   "file_extension": ".py",
   "mimetype": "text/x-python",
   "name": "python",
   "nbconvert_exporter": "python",
   "pygments_lexer": "ipython3",
   "version": "3.8.8"
  },
  "orig_nbformat": 4,
  "vscode": {
   "interpreter": {
    "hash": "485e273add8fb184c6d9cdbd11faf43ad8772c6f0647b4e20f00b2170c02ebac"
   }
  }
 },
 "nbformat": 4,
 "nbformat_minor": 2
}

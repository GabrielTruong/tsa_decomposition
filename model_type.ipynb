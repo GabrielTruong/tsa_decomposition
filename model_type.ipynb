{
 "cells": [
  {
   "cell_type": "markdown",
   "metadata": {},
   "source": [
    "# Time Series Analysis Project : Forecast Post-Sale Customer Service Calls\n",
    "\n",
    "**`Study of model type`**"
   ]
  },
  {
   "cell_type": "markdown",
   "metadata": {},
   "source": [
    "## **`Data Collection`**"
   ]
  },
  {
   "cell_type": "code",
   "execution_count": 1,
   "metadata": {},
   "outputs": [],
   "source": [
    "#import the needed libraries\n",
    "import pandas as pd \n",
    "import matplotlib.pyplot as plt\n",
    "import numpy as np\n",
    "from sklearn.model_selection import train_test_split\n",
    "import plotly.graph_objects as go"
   ]
  },
  {
   "cell_type": "code",
   "execution_count": 2,
   "metadata": {},
   "outputs": [
    {
     "data": {
      "text/plain": [
       "(            Appels\n",
       " Date              \n",
       " 2017-01-01     0.0\n",
       " 2017-01-02  5774.0\n",
       " 2017-01-03  5744.0\n",
       " 2017-01-04  5833.0\n",
       " 2017-01-05  5588.0,\n",
       "             Appels\n",
       " Date              \n",
       " 2021-12-27     NaN\n",
       " 2021-12-28     NaN\n",
       " 2021-12-29     NaN\n",
       " 2021-12-30     NaN\n",
       " 2021-12-31     NaN)"
      ]
     },
     "execution_count": 2,
     "metadata": {},
     "output_type": "execute_result"
    }
   ],
   "source": [
    "#import the dataset\n",
    "file=\"./Service Clients Darty 2017-2021.xlsx\"\n",
    "df = pd.read_excel(file)\n",
    "df.drop(columns=['Appels EGP'],inplace=True)\n",
    "df.set_index('Date',inplace=True)\n",
    "df.head(),df.tail()"
   ]
  },
  {
   "cell_type": "code",
   "execution_count": 3,
   "metadata": {},
   "outputs": [
    {
     "data": {
      "text/html": [
       "<div>\n",
       "<style scoped>\n",
       "    .dataframe tbody tr th:only-of-type {\n",
       "        vertical-align: middle;\n",
       "    }\n",
       "\n",
       "    .dataframe tbody tr th {\n",
       "        vertical-align: top;\n",
       "    }\n",
       "\n",
       "    .dataframe thead th {\n",
       "        text-align: right;\n",
       "    }\n",
       "</style>\n",
       "<table border=\"1\" class=\"dataframe\">\n",
       "  <thead>\n",
       "    <tr style=\"text-align: right;\">\n",
       "      <th></th>\n",
       "      <th>Appels</th>\n",
       "    </tr>\n",
       "  </thead>\n",
       "  <tbody>\n",
       "    <tr>\n",
       "      <th>count</th>\n",
       "      <td>1734.000000</td>\n",
       "    </tr>\n",
       "    <tr>\n",
       "      <th>mean</th>\n",
       "      <td>5461.132065</td>\n",
       "    </tr>\n",
       "    <tr>\n",
       "      <th>std</th>\n",
       "      <td>2635.572188</td>\n",
       "    </tr>\n",
       "    <tr>\n",
       "      <th>min</th>\n",
       "      <td>0.000000</td>\n",
       "    </tr>\n",
       "    <tr>\n",
       "      <th>25%</th>\n",
       "      <td>4211.750000</td>\n",
       "    </tr>\n",
       "    <tr>\n",
       "      <th>50%</th>\n",
       "      <td>5804.500000</td>\n",
       "    </tr>\n",
       "    <tr>\n",
       "      <th>75%</th>\n",
       "      <td>6899.750000</td>\n",
       "    </tr>\n",
       "    <tr>\n",
       "      <th>max</th>\n",
       "      <td>16049.000000</td>\n",
       "    </tr>\n",
       "  </tbody>\n",
       "</table>\n",
       "</div>"
      ],
      "text/plain": [
       "             Appels\n",
       "count   1734.000000\n",
       "mean    5461.132065\n",
       "std     2635.572188\n",
       "min        0.000000\n",
       "25%     4211.750000\n",
       "50%     5804.500000\n",
       "75%     6899.750000\n",
       "max    16049.000000"
      ]
     },
     "execution_count": 3,
     "metadata": {},
     "output_type": "execute_result"
    }
   ],
   "source": [
    "df.describe() "
   ]
  },
  {
   "cell_type": "markdown",
   "metadata": {},
   "source": [
    "**Split the data (first 3 years)**\n"
   ]
  },
  {
   "cell_type": "code",
   "execution_count": 4,
   "metadata": {},
   "outputs": [
    {
     "data": {
      "text/plain": [
       "(            Appels\n",
       " Date              \n",
       " 2019-12-27  5968.0\n",
       " 2019-12-28  3952.0\n",
       " 2019-12-29   868.0\n",
       " 2019-12-30  5520.0\n",
       " 2019-12-31  4051.0,\n",
       "             Appels\n",
       " Date              \n",
       " 2020-01-01     0.0\n",
       " 2020-01-02  5979.0\n",
       " 2020-01-03  5690.0\n",
       " 2020-01-04  3834.0\n",
       " 2020-01-05   687.0)"
      ]
     },
     "execution_count": 4,
     "metadata": {},
     "output_type": "execute_result"
    }
   ],
   "source": [
    "train_df = df[df.index<'2020-01-01']\n",
    "test_df = df[df.index>='2020-01-01']\n",
    "train_df.tail(),test_df.head()"
   ]
  },
  {
   "cell_type": "markdown",
   "metadata": {},
   "source": [
    "## **`Useful Functions`**"
   ]
  },
  {
   "cell_type": "code",
   "execution_count": 5,
   "metadata": {},
   "outputs": [],
   "source": [
    "def resample_df(df, freq):\n",
    "    \"\"\"\n",
    "    Resample a dataframe to a given frequency\n",
    "    args: \n",
    "    - df: dataframe to resample\n",
    "    - freq: string that gives the frequency ie. 'Y','W','M'\n",
    "    \n",
    "    returns: resampled dataframe\n",
    "    \"\"\"\n",
    "    return df.resample(freq).sum()"
   ]
  },
  {
   "cell_type": "code",
   "execution_count": 6,
   "metadata": {},
   "outputs": [],
   "source": [
    "def selectPeriod(df,period):\n",
    "    \"\"\"\n",
    "    Select a periodicity of a dataframe\n",
    "    args: \n",
    "    - df: dataframe studied\n",
    "    \n",
    "    returns: periodicity studied\n",
    "    \"\"\"\n",
    "    if period == 'Y':\n",
    "        return df.index.year\n",
    "    elif period == 'M':\n",
    "        return df.index.month\n",
    "    elif period == 'W':\n",
    "        return df.index.isocalendar().week\n"
   ]
  },
  {
   "cell_type": "code",
   "execution_count": 7,
   "metadata": {},
   "outputs": [],
   "source": [
    "def selectSeason(df,season):\n",
    "    \"\"\"\n",
    "    Select a season of a dataframe\n",
    "    args: \n",
    "    - df: dataframe studied\n",
    "    \n",
    "    returns: season studied\n",
    "    \"\"\"\n",
    "    if season == 'M':\n",
    "        return df.index.month\n",
    "    elif season == 'W':\n",
    "        return df.index.isocalendar().week\n",
    "    elif season == 'WD':\n",
    "        return df.index.weekday\n",
    "    elif season == 'D':\n",
    "        return df.index.day_of_year"
   ]
  },
  {
   "cell_type": "code",
   "execution_count": 8,
   "metadata": {},
   "outputs": [],
   "source": [
    "def getBuysBallot(df,period='Y',season='M'):\n",
    "    \"\"\"\n",
    "    Transform a df into a buys ballot table\n",
    "    args: \n",
    "    - df: dataframe to resample\n",
    "    \n",
    "    returns: formatted df\n",
    "    \"\"\"\n",
    "\n",
    "    \n",
    "    df_buysBallot = pd.DataFrame()\n",
    "    selected_period = selectPeriod(df,period)\n",
    "    periods = set(selected_period)\n",
    "    for period in periods:\n",
    "        period_condition = selected_period == period\n",
    "        selected_season = selectSeason(df[period_condition],season)\n",
    "        df_buysBallot[str(period)] = df[period_condition].groupby(selected_season).sum()\n",
    "    df_buysBallot=df_buysBallot.T\n",
    "    \n",
    "    return df_buysBallot"
   ]
  },
  {
   "cell_type": "code",
   "execution_count": 27,
   "metadata": {},
   "outputs": [],
   "source": [
    "def getBuysBallot2(df,period_chosen='Y',season='M'):\n",
    "    \"\"\"\n",
    "    Transform a df into a buys ballot table\n",
    "    args: \n",
    "    - df: dataframe to resample\n",
    "    \n",
    "    returns: formatted df\n",
    "    \"\"\"\n",
    "\n",
    "    \n",
    "    df_buysBallot = pd.DataFrame()\n",
    "    selected_period = selectPeriod(df,period_chosen)\n",
    "    periods = set(selected_period)\n",
    "    for period in periods:\n",
    "        period_condition = selected_period == period\n",
    "        selected_season = selectSeason(df[period_condition],season)\n",
    "        if period_chosen == \"M\":\n",
    "            df_buysBallot[str(period)] = df[period_condition].groupby(selected_season).sum()\n",
    "        \n",
    "        else:\n",
    "            df_buysBallot[str(period)] = df[period_condition].groupby(selected_season).sum()\n",
    "    df_buysBallot=df_buysBallot.T\n",
    "    \n",
    "    return df_buysBallot"
   ]
  },
  {
   "cell_type": "code",
   "execution_count": 68,
   "metadata": {},
   "outputs": [
    {
     "data": {
      "text/html": [
       "<div>\n",
       "<style scoped>\n",
       "    .dataframe tbody tr th:only-of-type {\n",
       "        vertical-align: middle;\n",
       "    }\n",
       "\n",
       "    .dataframe tbody tr th {\n",
       "        vertical-align: top;\n",
       "    }\n",
       "\n",
       "    .dataframe thead th {\n",
       "        text-align: right;\n",
       "    }\n",
       "</style>\n",
       "<table border=\"1\" class=\"dataframe\">\n",
       "  <thead>\n",
       "    <tr style=\"text-align: right;\">\n",
       "      <th></th>\n",
       "      <th>Appels</th>\n",
       "    </tr>\n",
       "    <tr>\n",
       "      <th>Date</th>\n",
       "      <th></th>\n",
       "    </tr>\n",
       "  </thead>\n",
       "  <tbody>\n",
       "    <tr>\n",
       "      <th>2017-01-01</th>\n",
       "      <td>0.0</td>\n",
       "    </tr>\n",
       "    <tr>\n",
       "      <th>2017-01-08</th>\n",
       "      <td>33095.0</td>\n",
       "    </tr>\n",
       "    <tr>\n",
       "      <th>2017-01-15</th>\n",
       "      <td>37485.0</td>\n",
       "    </tr>\n",
       "    <tr>\n",
       "      <th>2017-01-22</th>\n",
       "      <td>40932.0</td>\n",
       "    </tr>\n",
       "    <tr>\n",
       "      <th>2017-01-29</th>\n",
       "      <td>38141.0</td>\n",
       "    </tr>\n",
       "  </tbody>\n",
       "</table>\n",
       "</div>"
      ],
      "text/plain": [
       "             Appels\n",
       "Date               \n",
       "2017-01-01      0.0\n",
       "2017-01-08  33095.0\n",
       "2017-01-15  37485.0\n",
       "2017-01-22  40932.0\n",
       "2017-01-29  38141.0"
      ]
     },
     "execution_count": 68,
     "metadata": {},
     "output_type": "execute_result"
    }
   ],
   "source": [
    "df_week = train_df.resample('W').sum()\n",
    "df_week.head()"
   ]
  },
  {
   "cell_type": "code",
   "execution_count": 70,
   "metadata": {},
   "outputs": [
    {
     "data": {
      "text/html": [
       "<div>\n",
       "<style scoped>\n",
       "    .dataframe tbody tr th:only-of-type {\n",
       "        vertical-align: middle;\n",
       "    }\n",
       "\n",
       "    .dataframe tbody tr th {\n",
       "        vertical-align: top;\n",
       "    }\n",
       "\n",
       "    .dataframe thead th {\n",
       "        text-align: right;\n",
       "    }\n",
       "</style>\n",
       "<table border=\"1\" class=\"dataframe\">\n",
       "  <thead>\n",
       "    <tr style=\"text-align: right;\">\n",
       "      <th></th>\n",
       "      <th>Appels</th>\n",
       "      <th>Month</th>\n",
       "    </tr>\n",
       "    <tr>\n",
       "      <th>Date</th>\n",
       "      <th></th>\n",
       "      <th></th>\n",
       "    </tr>\n",
       "  </thead>\n",
       "  <tbody>\n",
       "    <tr>\n",
       "      <th>2017-01-01</th>\n",
       "      <td>0.0</td>\n",
       "      <td>2017-01</td>\n",
       "    </tr>\n",
       "    <tr>\n",
       "      <th>2017-01-08</th>\n",
       "      <td>33095.0</td>\n",
       "      <td>2017-01</td>\n",
       "    </tr>\n",
       "    <tr>\n",
       "      <th>2017-01-15</th>\n",
       "      <td>37485.0</td>\n",
       "      <td>2017-01</td>\n",
       "    </tr>\n",
       "    <tr>\n",
       "      <th>2017-01-22</th>\n",
       "      <td>40932.0</td>\n",
       "      <td>2017-01</td>\n",
       "    </tr>\n",
       "    <tr>\n",
       "      <th>2017-01-29</th>\n",
       "      <td>38141.0</td>\n",
       "      <td>2017-01</td>\n",
       "    </tr>\n",
       "    <tr>\n",
       "      <th>...</th>\n",
       "      <td>...</td>\n",
       "      <td>...</td>\n",
       "    </tr>\n",
       "    <tr>\n",
       "      <th>2019-12-08</th>\n",
       "      <td>56602.0</td>\n",
       "      <td>2019-12</td>\n",
       "    </tr>\n",
       "    <tr>\n",
       "      <th>2019-12-15</th>\n",
       "      <td>55792.0</td>\n",
       "      <td>2019-12</td>\n",
       "    </tr>\n",
       "    <tr>\n",
       "      <th>2019-12-22</th>\n",
       "      <td>57201.0</td>\n",
       "      <td>2019-12</td>\n",
       "    </tr>\n",
       "    <tr>\n",
       "      <th>2019-12-29</th>\n",
       "      <td>30637.0</td>\n",
       "      <td>2019-12</td>\n",
       "    </tr>\n",
       "    <tr>\n",
       "      <th>2020-01-05</th>\n",
       "      <td>9571.0</td>\n",
       "      <td>2020-01</td>\n",
       "    </tr>\n",
       "  </tbody>\n",
       "</table>\n",
       "<p>158 rows × 2 columns</p>\n",
       "</div>"
      ],
      "text/plain": [
       "             Appels    Month\n",
       "Date                        \n",
       "2017-01-01      0.0  2017-01\n",
       "2017-01-08  33095.0  2017-01\n",
       "2017-01-15  37485.0  2017-01\n",
       "2017-01-22  40932.0  2017-01\n",
       "2017-01-29  38141.0  2017-01\n",
       "...             ...      ...\n",
       "2019-12-08  56602.0  2019-12\n",
       "2019-12-15  55792.0  2019-12\n",
       "2019-12-22  57201.0  2019-12\n",
       "2019-12-29  30637.0  2019-12\n",
       "2020-01-05   9571.0  2020-01\n",
       "\n",
       "[158 rows x 2 columns]"
      ]
     },
     "execution_count": 70,
     "metadata": {},
     "output_type": "execute_result"
    }
   ],
   "source": [
    "df_study = train_df.copy()\n",
    "df_study = df_study.resample('W').sum()\n",
    "df_study['Month'] = df_study.index.to_period('M')\n",
    "df_study"
   ]
  },
  {
   "cell_type": "code",
   "execution_count": 80,
   "metadata": {},
   "outputs": [
    {
     "name": "stderr",
     "output_type": "stream",
     "text": [
      "/tmp/ipykernel_3867/4001871801.py:3: SettingWithCopyWarning:\n",
      "\n",
      "\n",
      "A value is trying to be set on a copy of a slice from a DataFrame\n",
      "\n",
      "See the caveats in the documentation: https://pandas.pydata.org/pandas-docs/stable/user_guide/indexing.html#returning-a-view-versus-a-copy\n",
      "\n"
     ]
    },
    {
     "data": {
      "text/html": [
       "<div>\n",
       "<style scoped>\n",
       "    .dataframe tbody tr th:only-of-type {\n",
       "        vertical-align: middle;\n",
       "    }\n",
       "\n",
       "    .dataframe tbody tr th {\n",
       "        vertical-align: top;\n",
       "    }\n",
       "\n",
       "    .dataframe thead th {\n",
       "        text-align: right;\n",
       "    }\n",
       "</style>\n",
       "<table border=\"1\" class=\"dataframe\">\n",
       "  <thead>\n",
       "    <tr style=\"text-align: right;\">\n",
       "      <th></th>\n",
       "      <th>Appels</th>\n",
       "    </tr>\n",
       "    <tr>\n",
       "      <th>Month</th>\n",
       "      <th></th>\n",
       "    </tr>\n",
       "  </thead>\n",
       "  <tbody>\n",
       "    <tr>\n",
       "      <th>2017-01</th>\n",
       "      <td>0.0</td>\n",
       "    </tr>\n",
       "    <tr>\n",
       "      <th>2017-01</th>\n",
       "      <td>33095.0</td>\n",
       "    </tr>\n",
       "    <tr>\n",
       "      <th>2017-01</th>\n",
       "      <td>37485.0</td>\n",
       "    </tr>\n",
       "    <tr>\n",
       "      <th>2017-01</th>\n",
       "      <td>40932.0</td>\n",
       "    </tr>\n",
       "    <tr>\n",
       "      <th>2017-01</th>\n",
       "      <td>38141.0</td>\n",
       "    </tr>\n",
       "    <tr>\n",
       "      <th>2017-02</th>\n",
       "      <td>37787.0</td>\n",
       "    </tr>\n",
       "    <tr>\n",
       "      <th>2017-02</th>\n",
       "      <td>37408.0</td>\n",
       "    </tr>\n",
       "    <tr>\n",
       "      <th>2017-02</th>\n",
       "      <td>34647.0</td>\n",
       "    </tr>\n",
       "    <tr>\n",
       "      <th>2017-02</th>\n",
       "      <td>33088.0</td>\n",
       "    </tr>\n",
       "    <tr>\n",
       "      <th>2017-03</th>\n",
       "      <td>32603.0</td>\n",
       "    </tr>\n",
       "    <tr>\n",
       "      <th>2017-03</th>\n",
       "      <td>32187.0</td>\n",
       "    </tr>\n",
       "    <tr>\n",
       "      <th>2017-03</th>\n",
       "      <td>31918.0</td>\n",
       "    </tr>\n",
       "    <tr>\n",
       "      <th>2017-03</th>\n",
       "      <td>30746.0</td>\n",
       "    </tr>\n",
       "    <tr>\n",
       "      <th>2017-04</th>\n",
       "      <td>29910.0</td>\n",
       "    </tr>\n",
       "    <tr>\n",
       "      <th>2017-04</th>\n",
       "      <td>29292.0</td>\n",
       "    </tr>\n",
       "    <tr>\n",
       "      <th>2017-04</th>\n",
       "      <td>27656.0</td>\n",
       "    </tr>\n",
       "    <tr>\n",
       "      <th>2017-04</th>\n",
       "      <td>25369.0</td>\n",
       "    </tr>\n",
       "    <tr>\n",
       "      <th>2017-04</th>\n",
       "      <td>28356.0</td>\n",
       "    </tr>\n",
       "    <tr>\n",
       "      <th>2017-05</th>\n",
       "      <td>26500.0</td>\n",
       "    </tr>\n",
       "    <tr>\n",
       "      <th>2017-05</th>\n",
       "      <td>28367.0</td>\n",
       "    </tr>\n",
       "    <tr>\n",
       "      <th>2017-05</th>\n",
       "      <td>30047.0</td>\n",
       "    </tr>\n",
       "    <tr>\n",
       "      <th>2017-05</th>\n",
       "      <td>27130.0</td>\n",
       "    </tr>\n",
       "    <tr>\n",
       "      <th>2017-06</th>\n",
       "      <td>33793.0</td>\n",
       "    </tr>\n",
       "    <tr>\n",
       "      <th>2017-06</th>\n",
       "      <td>30727.0</td>\n",
       "    </tr>\n",
       "    <tr>\n",
       "      <th>2017-06</th>\n",
       "      <td>34111.0</td>\n",
       "    </tr>\n",
       "    <tr>\n",
       "      <th>2017-06</th>\n",
       "      <td>39164.0</td>\n",
       "    </tr>\n",
       "    <tr>\n",
       "      <th>2017-07</th>\n",
       "      <td>39084.0</td>\n",
       "    </tr>\n",
       "    <tr>\n",
       "      <th>2017-07</th>\n",
       "      <td>44042.0</td>\n",
       "    </tr>\n",
       "    <tr>\n",
       "      <th>2017-07</th>\n",
       "      <td>42841.0</td>\n",
       "    </tr>\n",
       "    <tr>\n",
       "      <th>2017-07</th>\n",
       "      <td>48510.0</td>\n",
       "    </tr>\n",
       "    <tr>\n",
       "      <th>2017-07</th>\n",
       "      <td>44525.0</td>\n",
       "    </tr>\n",
       "    <tr>\n",
       "      <th>2017-08</th>\n",
       "      <td>43943.0</td>\n",
       "    </tr>\n",
       "    <tr>\n",
       "      <th>2017-08</th>\n",
       "      <td>40401.0</td>\n",
       "    </tr>\n",
       "    <tr>\n",
       "      <th>2017-08</th>\n",
       "      <td>33914.0</td>\n",
       "    </tr>\n",
       "    <tr>\n",
       "      <th>2017-08</th>\n",
       "      <td>39145.0</td>\n",
       "    </tr>\n",
       "    <tr>\n",
       "      <th>2017-09</th>\n",
       "      <td>42895.0</td>\n",
       "    </tr>\n",
       "    <tr>\n",
       "      <th>2017-09</th>\n",
       "      <td>43982.0</td>\n",
       "    </tr>\n",
       "    <tr>\n",
       "      <th>2017-09</th>\n",
       "      <td>43483.0</td>\n",
       "    </tr>\n",
       "    <tr>\n",
       "      <th>2017-09</th>\n",
       "      <td>39959.0</td>\n",
       "    </tr>\n",
       "    <tr>\n",
       "      <th>2017-10</th>\n",
       "      <td>38636.0</td>\n",
       "    </tr>\n",
       "    <tr>\n",
       "      <th>2017-10</th>\n",
       "      <td>38583.0</td>\n",
       "    </tr>\n",
       "    <tr>\n",
       "      <th>2017-10</th>\n",
       "      <td>38117.0</td>\n",
       "    </tr>\n",
       "    <tr>\n",
       "      <th>2017-10</th>\n",
       "      <td>36999.0</td>\n",
       "    </tr>\n",
       "    <tr>\n",
       "      <th>2017-10</th>\n",
       "      <td>36703.0</td>\n",
       "    </tr>\n",
       "    <tr>\n",
       "      <th>2017-11</th>\n",
       "      <td>37815.0</td>\n",
       "    </tr>\n",
       "    <tr>\n",
       "      <th>2017-11</th>\n",
       "      <td>39095.0</td>\n",
       "    </tr>\n",
       "    <tr>\n",
       "      <th>2017-11</th>\n",
       "      <td>38704.0</td>\n",
       "    </tr>\n",
       "    <tr>\n",
       "      <th>2017-11</th>\n",
       "      <td>47032.0</td>\n",
       "    </tr>\n",
       "    <tr>\n",
       "      <th>2017-12</th>\n",
       "      <td>56641.0</td>\n",
       "    </tr>\n",
       "    <tr>\n",
       "      <th>2017-12</th>\n",
       "      <td>54597.0</td>\n",
       "    </tr>\n",
       "    <tr>\n",
       "      <th>2017-12</th>\n",
       "      <td>56352.0</td>\n",
       "    </tr>\n",
       "    <tr>\n",
       "      <th>2017-12</th>\n",
       "      <td>60650.0</td>\n",
       "    </tr>\n",
       "    <tr>\n",
       "      <th>2017-12</th>\n",
       "      <td>32595.0</td>\n",
       "    </tr>\n",
       "  </tbody>\n",
       "</table>\n",
       "</div>"
      ],
      "text/plain": [
       "          Appels\n",
       "Month           \n",
       "2017-01      0.0\n",
       "2017-01  33095.0\n",
       "2017-01  37485.0\n",
       "2017-01  40932.0\n",
       "2017-01  38141.0\n",
       "2017-02  37787.0\n",
       "2017-02  37408.0\n",
       "2017-02  34647.0\n",
       "2017-02  33088.0\n",
       "2017-03  32603.0\n",
       "2017-03  32187.0\n",
       "2017-03  31918.0\n",
       "2017-03  30746.0\n",
       "2017-04  29910.0\n",
       "2017-04  29292.0\n",
       "2017-04  27656.0\n",
       "2017-04  25369.0\n",
       "2017-04  28356.0\n",
       "2017-05  26500.0\n",
       "2017-05  28367.0\n",
       "2017-05  30047.0\n",
       "2017-05  27130.0\n",
       "2017-06  33793.0\n",
       "2017-06  30727.0\n",
       "2017-06  34111.0\n",
       "2017-06  39164.0\n",
       "2017-07  39084.0\n",
       "2017-07  44042.0\n",
       "2017-07  42841.0\n",
       "2017-07  48510.0\n",
       "2017-07  44525.0\n",
       "2017-08  43943.0\n",
       "2017-08  40401.0\n",
       "2017-08  33914.0\n",
       "2017-08  39145.0\n",
       "2017-09  42895.0\n",
       "2017-09  43982.0\n",
       "2017-09  43483.0\n",
       "2017-09  39959.0\n",
       "2017-10  38636.0\n",
       "2017-10  38583.0\n",
       "2017-10  38117.0\n",
       "2017-10  36999.0\n",
       "2017-10  36703.0\n",
       "2017-11  37815.0\n",
       "2017-11  39095.0\n",
       "2017-11  38704.0\n",
       "2017-11  47032.0\n",
       "2017-12  56641.0\n",
       "2017-12  54597.0\n",
       "2017-12  56352.0\n",
       "2017-12  60650.0\n",
       "2017-12  32595.0"
      ]
     },
     "execution_count": 80,
     "metadata": {},
     "output_type": "execute_result"
    }
   ],
   "source": [
    "df_study_2017 = df_study[df_study.index.year==2017]\n",
    "df_study_2017.reset_index(inplace=True)\n",
    "df_study_2017.drop(columns=['Date'],inplace=True)\n",
    "df_study_2017.set_index('Month',inplace=True)\n",
    "df_study_2017"
   ]
  },
  {
   "cell_type": "code",
   "execution_count": 57,
   "metadata": {},
   "outputs": [
    {
     "name": "stderr",
     "output_type": "stream",
     "text": [
      "/tmp/ipykernel_3867/1154234588.py:1: FutureWarning:\n",
      "\n",
      "weekofyear and week have been deprecated, please use DatetimeIndex.isocalendar().week instead, which returns a Series. To exactly reproduce the behavior of week and weekofyear and return an Index, you may call pd.Int64Index(idx.isocalendar().week)\n",
      "\n"
     ]
    },
    {
     "data": {
      "text/html": [
       "<div>\n",
       "<style scoped>\n",
       "    .dataframe tbody tr th:only-of-type {\n",
       "        vertical-align: middle;\n",
       "    }\n",
       "\n",
       "    .dataframe tbody tr th {\n",
       "        vertical-align: top;\n",
       "    }\n",
       "\n",
       "    .dataframe thead th {\n",
       "        text-align: right;\n",
       "    }\n",
       "</style>\n",
       "<table border=\"1\" class=\"dataframe\">\n",
       "  <thead>\n",
       "    <tr style=\"text-align: right;\">\n",
       "      <th></th>\n",
       "      <th></th>\n",
       "      <th>Appels</th>\n",
       "    </tr>\n",
       "    <tr>\n",
       "      <th>month</th>\n",
       "      <th>week</th>\n",
       "      <th></th>\n",
       "    </tr>\n",
       "  </thead>\n",
       "  <tbody>\n",
       "    <tr>\n",
       "      <th rowspan=\"5\" valign=\"top\">1</th>\n",
       "      <th>1</th>\n",
       "      <td>88355.0</td>\n",
       "    </tr>\n",
       "    <tr>\n",
       "      <th>2</th>\n",
       "      <td>115553.0</td>\n",
       "    </tr>\n",
       "    <tr>\n",
       "      <th>3</th>\n",
       "      <td>124166.0</td>\n",
       "    </tr>\n",
       "    <tr>\n",
       "      <th>4</th>\n",
       "      <td>118160.0</td>\n",
       "    </tr>\n",
       "    <tr>\n",
       "      <th>5</th>\n",
       "      <td>60037.0</td>\n",
       "    </tr>\n",
       "    <tr>\n",
       "      <th>...</th>\n",
       "      <th>...</th>\n",
       "      <td>...</td>\n",
       "    </tr>\n",
       "    <tr>\n",
       "      <th rowspan=\"5\" valign=\"top\">12</th>\n",
       "      <th>48</th>\n",
       "      <td>25532.0</td>\n",
       "    </tr>\n",
       "    <tr>\n",
       "      <th>49</th>\n",
       "      <td>155350.0</td>\n",
       "    </tr>\n",
       "    <tr>\n",
       "      <th>50</th>\n",
       "      <td>156601.0</td>\n",
       "    </tr>\n",
       "    <tr>\n",
       "      <th>51</th>\n",
       "      <td>165190.0</td>\n",
       "    </tr>\n",
       "    <tr>\n",
       "      <th>52</th>\n",
       "      <td>89227.0</td>\n",
       "    </tr>\n",
       "  </tbody>\n",
       "</table>\n",
       "<p>66 rows × 1 columns</p>\n",
       "</div>"
      ],
      "text/plain": [
       "              Appels\n",
       "month week          \n",
       "1     1      88355.0\n",
       "      2     115553.0\n",
       "      3     124166.0\n",
       "      4     118160.0\n",
       "      5      60037.0\n",
       "...              ...\n",
       "12    48     25532.0\n",
       "      49    155350.0\n",
       "      50    156601.0\n",
       "      51    165190.0\n",
       "      52     89227.0\n",
       "\n",
       "[66 rows x 1 columns]"
      ]
     },
     "execution_count": 57,
     "metadata": {},
     "output_type": "execute_result"
    }
   ],
   "source": [
    "test_refacto = train_df.groupby([train_df.index.month,train_df.index.week]).sum()\n",
    "test_refacto.index.names = ['month','week']\n",
    "test_refacto\n",
    "#test_refacto.unstack(-1)\n",
    "#test_refacto.reset_index(level=\"week\",inplace=True)\n",
    "#test_refacto"
   ]
  },
  {
   "cell_type": "code",
   "execution_count": 9,
   "metadata": {},
   "outputs": [],
   "source": [
    "def compute_mean(df,period='Y',season='M'):\n",
    "    \"\"\"\n",
    "    Compute the mean of a dataframe\n",
    "    args: \n",
    "    - df: dataframe to resample\n",
    "    - period: string that gives the period ie. 'Y','W','M'\n",
    "    - season: string that gives the season ie. 'Y','W','M'\n",
    "    \n",
    "    returns: mean of the dataframe\n",
    "    \"\"\"\n",
    "    df = getBuysBallot(df,period,season)\n",
    "    return df.mean(axis=0)                 \n",
    "    \n"
   ]
  },
  {
   "cell_type": "code",
   "execution_count": 10,
   "metadata": {},
   "outputs": [],
   "source": [
    "def compute_std(df,period='Y',season='M'):\n",
    "    \"\"\"\n",
    "    Compute the standard deviation of a dataframe\n",
    "    args: \n",
    "    - df: dataframe to resample\n",
    "    - period: string that gives the period ie. 'Y','W','M'\n",
    "    - season: string that gives the season ie. 'Y','W','M'\n",
    "    \n",
    "    returns: standard deviation of the dataframe\n",
    "    \"\"\"\n",
    "    df = getBuysBallot(df,period,season)\n",
    "    return df.std(axis=0)"
   ]
  },
  {
   "cell_type": "code",
   "execution_count": 11,
   "metadata": {},
   "outputs": [],
   "source": [
    "def plot_decomposition_type(mean_df,std_df):\n",
    "    \"\"\"\n",
    "    Relationship between the seasonal means and the seasonal standard deviations\n",
    "    args: \n",
    "    - mean_df: dataframe with means values\n",
    "    - std_df: dataframe with std values\n",
    "    \n",
    "    returns: plot of the seasonal means and the pooled standard deviations\n",
    "    \"\"\"\n",
    "\n",
    "    fig = go.Figure()\n",
    "    fig.add_trace(go.Scatter(x=mean_df.index, y=mean_df,name=\"Seasonal mean\",line = dict(color='black', width=2)))\n",
    "    fig.add_trace(go.Scatter(x=mean_df.index, y=std_df,name=\"Seasonal standard deviation\",line = dict(color='black', width=1, dash='dash')))\n",
    "    fig.update_layout(title='Relationship between the seasonal means and the seasonal pooled standard deviations',\n",
    "                    xaxis_title='Period',\n",
    "                    yaxis_title='NUmber of calls')\n",
    "\n",
    "    fig.show()"
   ]
  },
  {
   "cell_type": "markdown",
   "metadata": {},
   "source": [
    "## **`Results`**"
   ]
  },
  {
   "cell_type": "markdown",
   "metadata": {},
   "source": [
    "### **`Period: Year & Season: Month`**"
   ]
  },
  {
   "cell_type": "code",
   "execution_count": 12,
   "metadata": {},
   "outputs": [
    {
     "data": {
      "text/html": [
       "<div>\n",
       "<style scoped>\n",
       "    .dataframe tbody tr th:only-of-type {\n",
       "        vertical-align: middle;\n",
       "    }\n",
       "\n",
       "    .dataframe tbody tr th {\n",
       "        vertical-align: top;\n",
       "    }\n",
       "\n",
       "    .dataframe thead th {\n",
       "        text-align: right;\n",
       "    }\n",
       "</style>\n",
       "<table border=\"1\" class=\"dataframe\">\n",
       "  <thead>\n",
       "    <tr style=\"text-align: right;\">\n",
       "      <th>Date</th>\n",
       "      <th>1</th>\n",
       "      <th>2</th>\n",
       "      <th>3</th>\n",
       "      <th>4</th>\n",
       "      <th>5</th>\n",
       "      <th>6</th>\n",
       "      <th>7</th>\n",
       "      <th>8</th>\n",
       "      <th>9</th>\n",
       "      <th>10</th>\n",
       "      <th>11</th>\n",
       "      <th>12</th>\n",
       "    </tr>\n",
       "  </thead>\n",
       "  <tbody>\n",
       "    <tr>\n",
       "      <th>2017</th>\n",
       "      <td>163082.0</td>\n",
       "      <td>140966.0</td>\n",
       "      <td>141573.0</td>\n",
       "      <td>114999.0</td>\n",
       "      <td>130337.0</td>\n",
       "      <td>152602.0</td>\n",
       "      <td>193753.0</td>\n",
       "      <td>179083.0</td>\n",
       "      <td>178460.0</td>\n",
       "      <td>165064.0</td>\n",
       "      <td>188319.0</td>\n",
       "      <td>221464.0</td>\n",
       "    </tr>\n",
       "    <tr>\n",
       "      <th>2018</th>\n",
       "      <td>173209.0</td>\n",
       "      <td>160203.0</td>\n",
       "      <td>160186.0</td>\n",
       "      <td>142896.0</td>\n",
       "      <td>127959.0</td>\n",
       "      <td>138021.0</td>\n",
       "      <td>166649.0</td>\n",
       "      <td>151997.0</td>\n",
       "      <td>144416.0</td>\n",
       "      <td>150877.0</td>\n",
       "      <td>194987.0</td>\n",
       "      <td>171215.0</td>\n",
       "    </tr>\n",
       "    <tr>\n",
       "      <th>2019</th>\n",
       "      <td>169980.0</td>\n",
       "      <td>134671.0</td>\n",
       "      <td>117593.0</td>\n",
       "      <td>115688.0</td>\n",
       "      <td>126345.0</td>\n",
       "      <td>139291.0</td>\n",
       "      <td>186758.0</td>\n",
       "      <td>149692.0</td>\n",
       "      <td>142779.0</td>\n",
       "      <td>144144.0</td>\n",
       "      <td>144316.0</td>\n",
       "      <td>211975.0</td>\n",
       "    </tr>\n",
       "  </tbody>\n",
       "</table>\n",
       "</div>"
      ],
      "text/plain": [
       "Date        1         2         3         4         5         6         7   \\\n",
       "2017  163082.0  140966.0  141573.0  114999.0  130337.0  152602.0  193753.0   \n",
       "2018  173209.0  160203.0  160186.0  142896.0  127959.0  138021.0  166649.0   \n",
       "2019  169980.0  134671.0  117593.0  115688.0  126345.0  139291.0  186758.0   \n",
       "\n",
       "Date        8         9         10        11        12  \n",
       "2017  179083.0  178460.0  165064.0  188319.0  221464.0  \n",
       "2018  151997.0  144416.0  150877.0  194987.0  171215.0  \n",
       "2019  149692.0  142779.0  144144.0  144316.0  211975.0  "
      ]
     },
     "execution_count": 12,
     "metadata": {},
     "output_type": "execute_result"
    }
   ],
   "source": [
    "getBuysBallot(train_df,\"Y\",\"M\")"
   ]
  },
  {
   "cell_type": "code",
   "execution_count": 13,
   "metadata": {},
   "outputs": [
    {
     "data": {
      "application/vnd.plotly.v1+json": {
       "config": {
        "plotlyServerURL": "https://plot.ly"
       },
       "data": [
        {
         "line": {
          "color": "black",
          "width": 2
         },
         "name": "Seasonal mean",
         "type": "scatter",
         "x": [
          1,
          2,
          3,
          4,
          5,
          6,
          7,
          8,
          9,
          10,
          11,
          12
         ],
         "y": [
          168757,
          145280,
          139784,
          124527.66666666667,
          128213.66666666667,
          143304.66666666666,
          182386.66666666666,
          160257.33333333334,
          155218.33333333334,
          153361.66666666666,
          175874,
          201551.33333333334
         ]
        },
        {
         "line": {
          "color": "black",
          "dash": "dash",
          "width": 1
         },
         "name": "Seasonal standard deviation",
         "type": "scatter",
         "x": [
          1,
          2,
          3,
          4,
          5,
          6,
          7,
          8,
          9,
          10,
          11,
          12
         ],
         "y": [
          5173.086989409709,
          13301.4549204213,
          21352.782090397493,
          15911.17319160763,
          2008.147736929067,
          8076.727699590555,
          14070.825147564494,
          16344.190109434401,
          20144.50903679048,
          10679.034428886038,
          27532.63661547873,
          26697.005830866754
         ]
        }
       ],
       "layout": {
        "template": {
         "data": {
          "bar": [
           {
            "error_x": {
             "color": "#2a3f5f"
            },
            "error_y": {
             "color": "#2a3f5f"
            },
            "marker": {
             "line": {
              "color": "#E5ECF6",
              "width": 0.5
             },
             "pattern": {
              "fillmode": "overlay",
              "size": 10,
              "solidity": 0.2
             }
            },
            "type": "bar"
           }
          ],
          "barpolar": [
           {
            "marker": {
             "line": {
              "color": "#E5ECF6",
              "width": 0.5
             },
             "pattern": {
              "fillmode": "overlay",
              "size": 10,
              "solidity": 0.2
             }
            },
            "type": "barpolar"
           }
          ],
          "carpet": [
           {
            "aaxis": {
             "endlinecolor": "#2a3f5f",
             "gridcolor": "white",
             "linecolor": "white",
             "minorgridcolor": "white",
             "startlinecolor": "#2a3f5f"
            },
            "baxis": {
             "endlinecolor": "#2a3f5f",
             "gridcolor": "white",
             "linecolor": "white",
             "minorgridcolor": "white",
             "startlinecolor": "#2a3f5f"
            },
            "type": "carpet"
           }
          ],
          "choropleth": [
           {
            "colorbar": {
             "outlinewidth": 0,
             "ticks": ""
            },
            "type": "choropleth"
           }
          ],
          "contour": [
           {
            "colorbar": {
             "outlinewidth": 0,
             "ticks": ""
            },
            "colorscale": [
             [
              0,
              "#0d0887"
             ],
             [
              0.1111111111111111,
              "#46039f"
             ],
             [
              0.2222222222222222,
              "#7201a8"
             ],
             [
              0.3333333333333333,
              "#9c179e"
             ],
             [
              0.4444444444444444,
              "#bd3786"
             ],
             [
              0.5555555555555556,
              "#d8576b"
             ],
             [
              0.6666666666666666,
              "#ed7953"
             ],
             [
              0.7777777777777778,
              "#fb9f3a"
             ],
             [
              0.8888888888888888,
              "#fdca26"
             ],
             [
              1,
              "#f0f921"
             ]
            ],
            "type": "contour"
           }
          ],
          "contourcarpet": [
           {
            "colorbar": {
             "outlinewidth": 0,
             "ticks": ""
            },
            "type": "contourcarpet"
           }
          ],
          "heatmap": [
           {
            "colorbar": {
             "outlinewidth": 0,
             "ticks": ""
            },
            "colorscale": [
             [
              0,
              "#0d0887"
             ],
             [
              0.1111111111111111,
              "#46039f"
             ],
             [
              0.2222222222222222,
              "#7201a8"
             ],
             [
              0.3333333333333333,
              "#9c179e"
             ],
             [
              0.4444444444444444,
              "#bd3786"
             ],
             [
              0.5555555555555556,
              "#d8576b"
             ],
             [
              0.6666666666666666,
              "#ed7953"
             ],
             [
              0.7777777777777778,
              "#fb9f3a"
             ],
             [
              0.8888888888888888,
              "#fdca26"
             ],
             [
              1,
              "#f0f921"
             ]
            ],
            "type": "heatmap"
           }
          ],
          "heatmapgl": [
           {
            "colorbar": {
             "outlinewidth": 0,
             "ticks": ""
            },
            "colorscale": [
             [
              0,
              "#0d0887"
             ],
             [
              0.1111111111111111,
              "#46039f"
             ],
             [
              0.2222222222222222,
              "#7201a8"
             ],
             [
              0.3333333333333333,
              "#9c179e"
             ],
             [
              0.4444444444444444,
              "#bd3786"
             ],
             [
              0.5555555555555556,
              "#d8576b"
             ],
             [
              0.6666666666666666,
              "#ed7953"
             ],
             [
              0.7777777777777778,
              "#fb9f3a"
             ],
             [
              0.8888888888888888,
              "#fdca26"
             ],
             [
              1,
              "#f0f921"
             ]
            ],
            "type": "heatmapgl"
           }
          ],
          "histogram": [
           {
            "marker": {
             "pattern": {
              "fillmode": "overlay",
              "size": 10,
              "solidity": 0.2
             }
            },
            "type": "histogram"
           }
          ],
          "histogram2d": [
           {
            "colorbar": {
             "outlinewidth": 0,
             "ticks": ""
            },
            "colorscale": [
             [
              0,
              "#0d0887"
             ],
             [
              0.1111111111111111,
              "#46039f"
             ],
             [
              0.2222222222222222,
              "#7201a8"
             ],
             [
              0.3333333333333333,
              "#9c179e"
             ],
             [
              0.4444444444444444,
              "#bd3786"
             ],
             [
              0.5555555555555556,
              "#d8576b"
             ],
             [
              0.6666666666666666,
              "#ed7953"
             ],
             [
              0.7777777777777778,
              "#fb9f3a"
             ],
             [
              0.8888888888888888,
              "#fdca26"
             ],
             [
              1,
              "#f0f921"
             ]
            ],
            "type": "histogram2d"
           }
          ],
          "histogram2dcontour": [
           {
            "colorbar": {
             "outlinewidth": 0,
             "ticks": ""
            },
            "colorscale": [
             [
              0,
              "#0d0887"
             ],
             [
              0.1111111111111111,
              "#46039f"
             ],
             [
              0.2222222222222222,
              "#7201a8"
             ],
             [
              0.3333333333333333,
              "#9c179e"
             ],
             [
              0.4444444444444444,
              "#bd3786"
             ],
             [
              0.5555555555555556,
              "#d8576b"
             ],
             [
              0.6666666666666666,
              "#ed7953"
             ],
             [
              0.7777777777777778,
              "#fb9f3a"
             ],
             [
              0.8888888888888888,
              "#fdca26"
             ],
             [
              1,
              "#f0f921"
             ]
            ],
            "type": "histogram2dcontour"
           }
          ],
          "mesh3d": [
           {
            "colorbar": {
             "outlinewidth": 0,
             "ticks": ""
            },
            "type": "mesh3d"
           }
          ],
          "parcoords": [
           {
            "line": {
             "colorbar": {
              "outlinewidth": 0,
              "ticks": ""
             }
            },
            "type": "parcoords"
           }
          ],
          "pie": [
           {
            "automargin": true,
            "type": "pie"
           }
          ],
          "scatter": [
           {
            "fillpattern": {
             "fillmode": "overlay",
             "size": 10,
             "solidity": 0.2
            },
            "type": "scatter"
           }
          ],
          "scatter3d": [
           {
            "line": {
             "colorbar": {
              "outlinewidth": 0,
              "ticks": ""
             }
            },
            "marker": {
             "colorbar": {
              "outlinewidth": 0,
              "ticks": ""
             }
            },
            "type": "scatter3d"
           }
          ],
          "scattercarpet": [
           {
            "marker": {
             "colorbar": {
              "outlinewidth": 0,
              "ticks": ""
             }
            },
            "type": "scattercarpet"
           }
          ],
          "scattergeo": [
           {
            "marker": {
             "colorbar": {
              "outlinewidth": 0,
              "ticks": ""
             }
            },
            "type": "scattergeo"
           }
          ],
          "scattergl": [
           {
            "marker": {
             "colorbar": {
              "outlinewidth": 0,
              "ticks": ""
             }
            },
            "type": "scattergl"
           }
          ],
          "scattermapbox": [
           {
            "marker": {
             "colorbar": {
              "outlinewidth": 0,
              "ticks": ""
             }
            },
            "type": "scattermapbox"
           }
          ],
          "scatterpolar": [
           {
            "marker": {
             "colorbar": {
              "outlinewidth": 0,
              "ticks": ""
             }
            },
            "type": "scatterpolar"
           }
          ],
          "scatterpolargl": [
           {
            "marker": {
             "colorbar": {
              "outlinewidth": 0,
              "ticks": ""
             }
            },
            "type": "scatterpolargl"
           }
          ],
          "scatterternary": [
           {
            "marker": {
             "colorbar": {
              "outlinewidth": 0,
              "ticks": ""
             }
            },
            "type": "scatterternary"
           }
          ],
          "surface": [
           {
            "colorbar": {
             "outlinewidth": 0,
             "ticks": ""
            },
            "colorscale": [
             [
              0,
              "#0d0887"
             ],
             [
              0.1111111111111111,
              "#46039f"
             ],
             [
              0.2222222222222222,
              "#7201a8"
             ],
             [
              0.3333333333333333,
              "#9c179e"
             ],
             [
              0.4444444444444444,
              "#bd3786"
             ],
             [
              0.5555555555555556,
              "#d8576b"
             ],
             [
              0.6666666666666666,
              "#ed7953"
             ],
             [
              0.7777777777777778,
              "#fb9f3a"
             ],
             [
              0.8888888888888888,
              "#fdca26"
             ],
             [
              1,
              "#f0f921"
             ]
            ],
            "type": "surface"
           }
          ],
          "table": [
           {
            "cells": {
             "fill": {
              "color": "#EBF0F8"
             },
             "line": {
              "color": "white"
             }
            },
            "header": {
             "fill": {
              "color": "#C8D4E3"
             },
             "line": {
              "color": "white"
             }
            },
            "type": "table"
           }
          ]
         },
         "layout": {
          "annotationdefaults": {
           "arrowcolor": "#2a3f5f",
           "arrowhead": 0,
           "arrowwidth": 1
          },
          "autotypenumbers": "strict",
          "coloraxis": {
           "colorbar": {
            "outlinewidth": 0,
            "ticks": ""
           }
          },
          "colorscale": {
           "diverging": [
            [
             0,
             "#8e0152"
            ],
            [
             0.1,
             "#c51b7d"
            ],
            [
             0.2,
             "#de77ae"
            ],
            [
             0.3,
             "#f1b6da"
            ],
            [
             0.4,
             "#fde0ef"
            ],
            [
             0.5,
             "#f7f7f7"
            ],
            [
             0.6,
             "#e6f5d0"
            ],
            [
             0.7,
             "#b8e186"
            ],
            [
             0.8,
             "#7fbc41"
            ],
            [
             0.9,
             "#4d9221"
            ],
            [
             1,
             "#276419"
            ]
           ],
           "sequential": [
            [
             0,
             "#0d0887"
            ],
            [
             0.1111111111111111,
             "#46039f"
            ],
            [
             0.2222222222222222,
             "#7201a8"
            ],
            [
             0.3333333333333333,
             "#9c179e"
            ],
            [
             0.4444444444444444,
             "#bd3786"
            ],
            [
             0.5555555555555556,
             "#d8576b"
            ],
            [
             0.6666666666666666,
             "#ed7953"
            ],
            [
             0.7777777777777778,
             "#fb9f3a"
            ],
            [
             0.8888888888888888,
             "#fdca26"
            ],
            [
             1,
             "#f0f921"
            ]
           ],
           "sequentialminus": [
            [
             0,
             "#0d0887"
            ],
            [
             0.1111111111111111,
             "#46039f"
            ],
            [
             0.2222222222222222,
             "#7201a8"
            ],
            [
             0.3333333333333333,
             "#9c179e"
            ],
            [
             0.4444444444444444,
             "#bd3786"
            ],
            [
             0.5555555555555556,
             "#d8576b"
            ],
            [
             0.6666666666666666,
             "#ed7953"
            ],
            [
             0.7777777777777778,
             "#fb9f3a"
            ],
            [
             0.8888888888888888,
             "#fdca26"
            ],
            [
             1,
             "#f0f921"
            ]
           ]
          },
          "colorway": [
           "#636efa",
           "#EF553B",
           "#00cc96",
           "#ab63fa",
           "#FFA15A",
           "#19d3f3",
           "#FF6692",
           "#B6E880",
           "#FF97FF",
           "#FECB52"
          ],
          "font": {
           "color": "#2a3f5f"
          },
          "geo": {
           "bgcolor": "white",
           "lakecolor": "white",
           "landcolor": "#E5ECF6",
           "showlakes": true,
           "showland": true,
           "subunitcolor": "white"
          },
          "hoverlabel": {
           "align": "left"
          },
          "hovermode": "closest",
          "mapbox": {
           "style": "light"
          },
          "paper_bgcolor": "white",
          "plot_bgcolor": "#E5ECF6",
          "polar": {
           "angularaxis": {
            "gridcolor": "white",
            "linecolor": "white",
            "ticks": ""
           },
           "bgcolor": "#E5ECF6",
           "radialaxis": {
            "gridcolor": "white",
            "linecolor": "white",
            "ticks": ""
           }
          },
          "scene": {
           "xaxis": {
            "backgroundcolor": "#E5ECF6",
            "gridcolor": "white",
            "gridwidth": 2,
            "linecolor": "white",
            "showbackground": true,
            "ticks": "",
            "zerolinecolor": "white"
           },
           "yaxis": {
            "backgroundcolor": "#E5ECF6",
            "gridcolor": "white",
            "gridwidth": 2,
            "linecolor": "white",
            "showbackground": true,
            "ticks": "",
            "zerolinecolor": "white"
           },
           "zaxis": {
            "backgroundcolor": "#E5ECF6",
            "gridcolor": "white",
            "gridwidth": 2,
            "linecolor": "white",
            "showbackground": true,
            "ticks": "",
            "zerolinecolor": "white"
           }
          },
          "shapedefaults": {
           "line": {
            "color": "#2a3f5f"
           }
          },
          "ternary": {
           "aaxis": {
            "gridcolor": "white",
            "linecolor": "white",
            "ticks": ""
           },
           "baxis": {
            "gridcolor": "white",
            "linecolor": "white",
            "ticks": ""
           },
           "bgcolor": "#E5ECF6",
           "caxis": {
            "gridcolor": "white",
            "linecolor": "white",
            "ticks": ""
           }
          },
          "title": {
           "x": 0.05
          },
          "xaxis": {
           "automargin": true,
           "gridcolor": "white",
           "linecolor": "white",
           "ticks": "",
           "title": {
            "standoff": 15
           },
           "zerolinecolor": "white",
           "zerolinewidth": 2
          },
          "yaxis": {
           "automargin": true,
           "gridcolor": "white",
           "linecolor": "white",
           "ticks": "",
           "title": {
            "standoff": 15
           },
           "zerolinecolor": "white",
           "zerolinewidth": 2
          }
         }
        },
        "title": {
         "text": "Relationship between the seasonal means and the seasonal pooled standard deviations"
        },
        "xaxis": {
         "title": {
          "text": "Period"
         }
        },
        "yaxis": {
         "title": {
          "text": "NUmber of calls"
         }
        }
       }
      }
     },
     "metadata": {},
     "output_type": "display_data"
    },
    {
     "data": {
      "text/plain": [
       "0.49294984342916687"
      ]
     },
     "execution_count": 13,
     "metadata": {},
     "output_type": "execute_result"
    }
   ],
   "source": [
    "mean_df = compute_mean(train_df,\"Y\",\"M\")\n",
    "std_df = compute_std(train_df,\"Y\",\"M\")\n",
    "\n",
    "plot_decomposition_type(mean_df,std_df)\n",
    "std_df.corr(mean_df)"
   ]
  },
  {
   "cell_type": "markdown",
   "metadata": {},
   "source": [
    "### **`Period: Year & Season: Week`**"
   ]
  },
  {
   "cell_type": "code",
   "execution_count": 14,
   "metadata": {},
   "outputs": [
    {
     "data": {
      "text/html": [
       "<div>\n",
       "<style scoped>\n",
       "    .dataframe tbody tr th:only-of-type {\n",
       "        vertical-align: middle;\n",
       "    }\n",
       "\n",
       "    .dataframe tbody tr th {\n",
       "        vertical-align: top;\n",
       "    }\n",
       "\n",
       "    .dataframe thead th {\n",
       "        text-align: right;\n",
       "    }\n",
       "</style>\n",
       "<table border=\"1\" class=\"dataframe\">\n",
       "  <thead>\n",
       "    <tr style=\"text-align: right;\">\n",
       "      <th>week</th>\n",
       "      <th>1</th>\n",
       "      <th>2</th>\n",
       "      <th>3</th>\n",
       "      <th>4</th>\n",
       "      <th>5</th>\n",
       "      <th>6</th>\n",
       "      <th>7</th>\n",
       "      <th>8</th>\n",
       "      <th>9</th>\n",
       "      <th>10</th>\n",
       "      <th>...</th>\n",
       "      <th>43</th>\n",
       "      <th>44</th>\n",
       "      <th>45</th>\n",
       "      <th>46</th>\n",
       "      <th>47</th>\n",
       "      <th>48</th>\n",
       "      <th>49</th>\n",
       "      <th>50</th>\n",
       "      <th>51</th>\n",
       "      <th>52</th>\n",
       "    </tr>\n",
       "  </thead>\n",
       "  <tbody>\n",
       "    <tr>\n",
       "      <th>2017</th>\n",
       "      <td>33095.0</td>\n",
       "      <td>37485.0</td>\n",
       "      <td>40932.0</td>\n",
       "      <td>38141.0</td>\n",
       "      <td>37787.0</td>\n",
       "      <td>37408.0</td>\n",
       "      <td>34647.0</td>\n",
       "      <td>33088.0</td>\n",
       "      <td>32603.0</td>\n",
       "      <td>32187.0</td>\n",
       "      <td>...</td>\n",
       "      <td>36703.0</td>\n",
       "      <td>37815.0</td>\n",
       "      <td>39095.0</td>\n",
       "      <td>38704.0</td>\n",
       "      <td>47032.0</td>\n",
       "      <td>56641.0</td>\n",
       "      <td>54597.0</td>\n",
       "      <td>56352.0</td>\n",
       "      <td>60650.0</td>\n",
       "      <td>32595.0</td>\n",
       "    </tr>\n",
       "    <tr>\n",
       "      <th>2018</th>\n",
       "      <td>34963.0</td>\n",
       "      <td>39047.0</td>\n",
       "      <td>41375.0</td>\n",
       "      <td>40782.0</td>\n",
       "      <td>38256.0</td>\n",
       "      <td>41803.0</td>\n",
       "      <td>44037.0</td>\n",
       "      <td>37663.0</td>\n",
       "      <td>36122.0</td>\n",
       "      <td>36343.0</td>\n",
       "      <td>...</td>\n",
       "      <td>30416.0</td>\n",
       "      <td>27475.0</td>\n",
       "      <td>32864.0</td>\n",
       "      <td>33209.0</td>\n",
       "      <td>59552.0</td>\n",
       "      <td>64270.0</td>\n",
       "      <td>44151.0</td>\n",
       "      <td>44457.0</td>\n",
       "      <td>47339.0</td>\n",
       "      <td>25995.0</td>\n",
       "    </tr>\n",
       "    <tr>\n",
       "      <th>2019</th>\n",
       "      <td>33051.0</td>\n",
       "      <td>39021.0</td>\n",
       "      <td>41859.0</td>\n",
       "      <td>39237.0</td>\n",
       "      <td>37823.0</td>\n",
       "      <td>36634.0</td>\n",
       "      <td>36313.0</td>\n",
       "      <td>30862.0</td>\n",
       "      <td>27539.0</td>\n",
       "      <td>28603.0</td>\n",
       "      <td>...</td>\n",
       "      <td>30626.0</td>\n",
       "      <td>26612.0</td>\n",
       "      <td>31887.0</td>\n",
       "      <td>30344.0</td>\n",
       "      <td>31540.0</td>\n",
       "      <td>46840.0</td>\n",
       "      <td>56602.0</td>\n",
       "      <td>55792.0</td>\n",
       "      <td>57201.0</td>\n",
       "      <td>30637.0</td>\n",
       "    </tr>\n",
       "  </tbody>\n",
       "</table>\n",
       "<p>3 rows × 52 columns</p>\n",
       "</div>"
      ],
      "text/plain": [
       "week       1        2        3        4        5        6        7        8   \\\n",
       "2017  33095.0  37485.0  40932.0  38141.0  37787.0  37408.0  34647.0  33088.0   \n",
       "2018  34963.0  39047.0  41375.0  40782.0  38256.0  41803.0  44037.0  37663.0   \n",
       "2019  33051.0  39021.0  41859.0  39237.0  37823.0  36634.0  36313.0  30862.0   \n",
       "\n",
       "week       9        10  ...       43       44       45       46       47  \\\n",
       "2017  32603.0  32187.0  ...  36703.0  37815.0  39095.0  38704.0  47032.0   \n",
       "2018  36122.0  36343.0  ...  30416.0  27475.0  32864.0  33209.0  59552.0   \n",
       "2019  27539.0  28603.0  ...  30626.0  26612.0  31887.0  30344.0  31540.0   \n",
       "\n",
       "week       48       49       50       51       52  \n",
       "2017  56641.0  54597.0  56352.0  60650.0  32595.0  \n",
       "2018  64270.0  44151.0  44457.0  47339.0  25995.0  \n",
       "2019  46840.0  56602.0  55792.0  57201.0  30637.0  \n",
       "\n",
       "[3 rows x 52 columns]"
      ]
     },
     "execution_count": 14,
     "metadata": {},
     "output_type": "execute_result"
    }
   ],
   "source": [
    "getBuysBallot(train_df,\"Y\",\"W\")"
   ]
  },
  {
   "cell_type": "code",
   "execution_count": 15,
   "metadata": {},
   "outputs": [
    {
     "data": {
      "application/vnd.plotly.v1+json": {
       "config": {
        "plotlyServerURL": "https://plot.ly"
       },
       "data": [
        {
         "line": {
          "color": "black",
          "width": 2
         },
         "name": "Seasonal mean",
         "type": "scatter",
         "x": [
          1,
          2,
          3,
          4,
          5,
          6,
          7,
          8,
          9,
          10,
          11,
          12,
          13,
          14,
          15,
          16,
          17,
          18,
          19,
          20,
          21,
          22,
          23,
          24,
          25,
          26,
          27,
          28,
          29,
          30,
          31,
          32,
          33,
          34,
          35,
          36,
          37,
          38,
          39,
          40,
          41,
          42,
          43,
          44,
          45,
          46,
          47,
          48,
          49,
          50,
          51,
          52
         ],
         "y": [
          33703,
          38517.666666666664,
          41388.666666666664,
          39386.666666666664,
          37955.333333333336,
          38615,
          38332.333333333336,
          33871,
          32088,
          32377.666666666668,
          32162,
          31040.333333333332,
          30320.333333333332,
          29619,
          30789.666666666668,
          28697.333333333332,
          28340,
          26405,
          26842,
          30571,
          28993,
          30258.666666666668,
          30997.666666666668,
          33043.333333333336,
          34282.333333333336,
          37780.666666666664,
          42115.666666666664,
          41108.333333333336,
          42485.333333333336,
          40470.333333333336,
          40364,
          36171.333333333336,
          30590.666666666668,
          35992,
          37324.333333333336,
          38711,
          38012,
          36471,
          34157,
          36578,
          35400.666666666664,
          33522.666666666664,
          32581.666666666668,
          30634,
          34615.333333333336,
          34085.666666666664,
          46041.333333333336,
          55917,
          51783.333333333336,
          52200.333333333336,
          55063.333333333336,
          29742.333333333332
         ]
        },
        {
         "line": {
          "color": "black",
          "dash": "dash",
          "width": 1
         },
         "name": "Seasonal standard deviation",
         "type": "scatter",
         "x": [
          1,
          2,
          3,
          4,
          5,
          6,
          7,
          8,
          9,
          10,
          11,
          12,
          13,
          14,
          15,
          16,
          17,
          18,
          19,
          20,
          21,
          22,
          23,
          24,
          25,
          26,
          27,
          28,
          29,
          30,
          31,
          32,
          33,
          34,
          35,
          36,
          37,
          38,
          39,
          40,
          41,
          42,
          43,
          44,
          45,
          46,
          47,
          48,
          49,
          50,
          51,
          52
         ],
         "y": [
          1091.4137620536035,
          894.4100476477963,
          463.6510900810364,
          1326.846009653469,
          261.0063856179257,
          2787.880377634593,
          5010.120291303726,
          3467.451081125731,
          4314.613655937226,
          3873.5210511023856,
          3594.217021828259,
          4821.24302782315,
          4734.853992821039,
          2802.84302093428,
          5172.592419022915,
          4545.334127798894,
          4481.021423738119,
          1306.0937944879763,
          2492.2080571252473,
          456.9989059067866,
          1930.7348342017347,
          4875.905488556288,
          2136.8952555830465,
          1607.1229988191112,
          4381.924044678699,
          5756.738081008492,
          4240.4448272950485,
          3544.308301112268,
          5366.562431699955,
          3515.7527406422273,
          5468.680005266353,
          3674.8986834106504,
          3000.136219129614,
          3361.490294497368,
          4903.941815859293,
          4589.415104346086,
          4739.09073557365,
          3132.122602964322,
          3907.2382829819835,
          1742.8049231052798,
          3001.7012398527163,
          3188.607898963642,
          3570.723502783901,
          6233.8802522987235,
          3910.1396820744567,
          4248.388910320397,
          14032.252183214685,
          8737.525793953344,
          6685.386326408769,
          6711.76640932425,
          6908.175904921163,
          3389.737649632097
         ]
        }
       ],
       "layout": {
        "template": {
         "data": {
          "bar": [
           {
            "error_x": {
             "color": "#2a3f5f"
            },
            "error_y": {
             "color": "#2a3f5f"
            },
            "marker": {
             "line": {
              "color": "#E5ECF6",
              "width": 0.5
             },
             "pattern": {
              "fillmode": "overlay",
              "size": 10,
              "solidity": 0.2
             }
            },
            "type": "bar"
           }
          ],
          "barpolar": [
           {
            "marker": {
             "line": {
              "color": "#E5ECF6",
              "width": 0.5
             },
             "pattern": {
              "fillmode": "overlay",
              "size": 10,
              "solidity": 0.2
             }
            },
            "type": "barpolar"
           }
          ],
          "carpet": [
           {
            "aaxis": {
             "endlinecolor": "#2a3f5f",
             "gridcolor": "white",
             "linecolor": "white",
             "minorgridcolor": "white",
             "startlinecolor": "#2a3f5f"
            },
            "baxis": {
             "endlinecolor": "#2a3f5f",
             "gridcolor": "white",
             "linecolor": "white",
             "minorgridcolor": "white",
             "startlinecolor": "#2a3f5f"
            },
            "type": "carpet"
           }
          ],
          "choropleth": [
           {
            "colorbar": {
             "outlinewidth": 0,
             "ticks": ""
            },
            "type": "choropleth"
           }
          ],
          "contour": [
           {
            "colorbar": {
             "outlinewidth": 0,
             "ticks": ""
            },
            "colorscale": [
             [
              0,
              "#0d0887"
             ],
             [
              0.1111111111111111,
              "#46039f"
             ],
             [
              0.2222222222222222,
              "#7201a8"
             ],
             [
              0.3333333333333333,
              "#9c179e"
             ],
             [
              0.4444444444444444,
              "#bd3786"
             ],
             [
              0.5555555555555556,
              "#d8576b"
             ],
             [
              0.6666666666666666,
              "#ed7953"
             ],
             [
              0.7777777777777778,
              "#fb9f3a"
             ],
             [
              0.8888888888888888,
              "#fdca26"
             ],
             [
              1,
              "#f0f921"
             ]
            ],
            "type": "contour"
           }
          ],
          "contourcarpet": [
           {
            "colorbar": {
             "outlinewidth": 0,
             "ticks": ""
            },
            "type": "contourcarpet"
           }
          ],
          "heatmap": [
           {
            "colorbar": {
             "outlinewidth": 0,
             "ticks": ""
            },
            "colorscale": [
             [
              0,
              "#0d0887"
             ],
             [
              0.1111111111111111,
              "#46039f"
             ],
             [
              0.2222222222222222,
              "#7201a8"
             ],
             [
              0.3333333333333333,
              "#9c179e"
             ],
             [
              0.4444444444444444,
              "#bd3786"
             ],
             [
              0.5555555555555556,
              "#d8576b"
             ],
             [
              0.6666666666666666,
              "#ed7953"
             ],
             [
              0.7777777777777778,
              "#fb9f3a"
             ],
             [
              0.8888888888888888,
              "#fdca26"
             ],
             [
              1,
              "#f0f921"
             ]
            ],
            "type": "heatmap"
           }
          ],
          "heatmapgl": [
           {
            "colorbar": {
             "outlinewidth": 0,
             "ticks": ""
            },
            "colorscale": [
             [
              0,
              "#0d0887"
             ],
             [
              0.1111111111111111,
              "#46039f"
             ],
             [
              0.2222222222222222,
              "#7201a8"
             ],
             [
              0.3333333333333333,
              "#9c179e"
             ],
             [
              0.4444444444444444,
              "#bd3786"
             ],
             [
              0.5555555555555556,
              "#d8576b"
             ],
             [
              0.6666666666666666,
              "#ed7953"
             ],
             [
              0.7777777777777778,
              "#fb9f3a"
             ],
             [
              0.8888888888888888,
              "#fdca26"
             ],
             [
              1,
              "#f0f921"
             ]
            ],
            "type": "heatmapgl"
           }
          ],
          "histogram": [
           {
            "marker": {
             "pattern": {
              "fillmode": "overlay",
              "size": 10,
              "solidity": 0.2
             }
            },
            "type": "histogram"
           }
          ],
          "histogram2d": [
           {
            "colorbar": {
             "outlinewidth": 0,
             "ticks": ""
            },
            "colorscale": [
             [
              0,
              "#0d0887"
             ],
             [
              0.1111111111111111,
              "#46039f"
             ],
             [
              0.2222222222222222,
              "#7201a8"
             ],
             [
              0.3333333333333333,
              "#9c179e"
             ],
             [
              0.4444444444444444,
              "#bd3786"
             ],
             [
              0.5555555555555556,
              "#d8576b"
             ],
             [
              0.6666666666666666,
              "#ed7953"
             ],
             [
              0.7777777777777778,
              "#fb9f3a"
             ],
             [
              0.8888888888888888,
              "#fdca26"
             ],
             [
              1,
              "#f0f921"
             ]
            ],
            "type": "histogram2d"
           }
          ],
          "histogram2dcontour": [
           {
            "colorbar": {
             "outlinewidth": 0,
             "ticks": ""
            },
            "colorscale": [
             [
              0,
              "#0d0887"
             ],
             [
              0.1111111111111111,
              "#46039f"
             ],
             [
              0.2222222222222222,
              "#7201a8"
             ],
             [
              0.3333333333333333,
              "#9c179e"
             ],
             [
              0.4444444444444444,
              "#bd3786"
             ],
             [
              0.5555555555555556,
              "#d8576b"
             ],
             [
              0.6666666666666666,
              "#ed7953"
             ],
             [
              0.7777777777777778,
              "#fb9f3a"
             ],
             [
              0.8888888888888888,
              "#fdca26"
             ],
             [
              1,
              "#f0f921"
             ]
            ],
            "type": "histogram2dcontour"
           }
          ],
          "mesh3d": [
           {
            "colorbar": {
             "outlinewidth": 0,
             "ticks": ""
            },
            "type": "mesh3d"
           }
          ],
          "parcoords": [
           {
            "line": {
             "colorbar": {
              "outlinewidth": 0,
              "ticks": ""
             }
            },
            "type": "parcoords"
           }
          ],
          "pie": [
           {
            "automargin": true,
            "type": "pie"
           }
          ],
          "scatter": [
           {
            "fillpattern": {
             "fillmode": "overlay",
             "size": 10,
             "solidity": 0.2
            },
            "type": "scatter"
           }
          ],
          "scatter3d": [
           {
            "line": {
             "colorbar": {
              "outlinewidth": 0,
              "ticks": ""
             }
            },
            "marker": {
             "colorbar": {
              "outlinewidth": 0,
              "ticks": ""
             }
            },
            "type": "scatter3d"
           }
          ],
          "scattercarpet": [
           {
            "marker": {
             "colorbar": {
              "outlinewidth": 0,
              "ticks": ""
             }
            },
            "type": "scattercarpet"
           }
          ],
          "scattergeo": [
           {
            "marker": {
             "colorbar": {
              "outlinewidth": 0,
              "ticks": ""
             }
            },
            "type": "scattergeo"
           }
          ],
          "scattergl": [
           {
            "marker": {
             "colorbar": {
              "outlinewidth": 0,
              "ticks": ""
             }
            },
            "type": "scattergl"
           }
          ],
          "scattermapbox": [
           {
            "marker": {
             "colorbar": {
              "outlinewidth": 0,
              "ticks": ""
             }
            },
            "type": "scattermapbox"
           }
          ],
          "scatterpolar": [
           {
            "marker": {
             "colorbar": {
              "outlinewidth": 0,
              "ticks": ""
             }
            },
            "type": "scatterpolar"
           }
          ],
          "scatterpolargl": [
           {
            "marker": {
             "colorbar": {
              "outlinewidth": 0,
              "ticks": ""
             }
            },
            "type": "scatterpolargl"
           }
          ],
          "scatterternary": [
           {
            "marker": {
             "colorbar": {
              "outlinewidth": 0,
              "ticks": ""
             }
            },
            "type": "scatterternary"
           }
          ],
          "surface": [
           {
            "colorbar": {
             "outlinewidth": 0,
             "ticks": ""
            },
            "colorscale": [
             [
              0,
              "#0d0887"
             ],
             [
              0.1111111111111111,
              "#46039f"
             ],
             [
              0.2222222222222222,
              "#7201a8"
             ],
             [
              0.3333333333333333,
              "#9c179e"
             ],
             [
              0.4444444444444444,
              "#bd3786"
             ],
             [
              0.5555555555555556,
              "#d8576b"
             ],
             [
              0.6666666666666666,
              "#ed7953"
             ],
             [
              0.7777777777777778,
              "#fb9f3a"
             ],
             [
              0.8888888888888888,
              "#fdca26"
             ],
             [
              1,
              "#f0f921"
             ]
            ],
            "type": "surface"
           }
          ],
          "table": [
           {
            "cells": {
             "fill": {
              "color": "#EBF0F8"
             },
             "line": {
              "color": "white"
             }
            },
            "header": {
             "fill": {
              "color": "#C8D4E3"
             },
             "line": {
              "color": "white"
             }
            },
            "type": "table"
           }
          ]
         },
         "layout": {
          "annotationdefaults": {
           "arrowcolor": "#2a3f5f",
           "arrowhead": 0,
           "arrowwidth": 1
          },
          "autotypenumbers": "strict",
          "coloraxis": {
           "colorbar": {
            "outlinewidth": 0,
            "ticks": ""
           }
          },
          "colorscale": {
           "diverging": [
            [
             0,
             "#8e0152"
            ],
            [
             0.1,
             "#c51b7d"
            ],
            [
             0.2,
             "#de77ae"
            ],
            [
             0.3,
             "#f1b6da"
            ],
            [
             0.4,
             "#fde0ef"
            ],
            [
             0.5,
             "#f7f7f7"
            ],
            [
             0.6,
             "#e6f5d0"
            ],
            [
             0.7,
             "#b8e186"
            ],
            [
             0.8,
             "#7fbc41"
            ],
            [
             0.9,
             "#4d9221"
            ],
            [
             1,
             "#276419"
            ]
           ],
           "sequential": [
            [
             0,
             "#0d0887"
            ],
            [
             0.1111111111111111,
             "#46039f"
            ],
            [
             0.2222222222222222,
             "#7201a8"
            ],
            [
             0.3333333333333333,
             "#9c179e"
            ],
            [
             0.4444444444444444,
             "#bd3786"
            ],
            [
             0.5555555555555556,
             "#d8576b"
            ],
            [
             0.6666666666666666,
             "#ed7953"
            ],
            [
             0.7777777777777778,
             "#fb9f3a"
            ],
            [
             0.8888888888888888,
             "#fdca26"
            ],
            [
             1,
             "#f0f921"
            ]
           ],
           "sequentialminus": [
            [
             0,
             "#0d0887"
            ],
            [
             0.1111111111111111,
             "#46039f"
            ],
            [
             0.2222222222222222,
             "#7201a8"
            ],
            [
             0.3333333333333333,
             "#9c179e"
            ],
            [
             0.4444444444444444,
             "#bd3786"
            ],
            [
             0.5555555555555556,
             "#d8576b"
            ],
            [
             0.6666666666666666,
             "#ed7953"
            ],
            [
             0.7777777777777778,
             "#fb9f3a"
            ],
            [
             0.8888888888888888,
             "#fdca26"
            ],
            [
             1,
             "#f0f921"
            ]
           ]
          },
          "colorway": [
           "#636efa",
           "#EF553B",
           "#00cc96",
           "#ab63fa",
           "#FFA15A",
           "#19d3f3",
           "#FF6692",
           "#B6E880",
           "#FF97FF",
           "#FECB52"
          ],
          "font": {
           "color": "#2a3f5f"
          },
          "geo": {
           "bgcolor": "white",
           "lakecolor": "white",
           "landcolor": "#E5ECF6",
           "showlakes": true,
           "showland": true,
           "subunitcolor": "white"
          },
          "hoverlabel": {
           "align": "left"
          },
          "hovermode": "closest",
          "mapbox": {
           "style": "light"
          },
          "paper_bgcolor": "white",
          "plot_bgcolor": "#E5ECF6",
          "polar": {
           "angularaxis": {
            "gridcolor": "white",
            "linecolor": "white",
            "ticks": ""
           },
           "bgcolor": "#E5ECF6",
           "radialaxis": {
            "gridcolor": "white",
            "linecolor": "white",
            "ticks": ""
           }
          },
          "scene": {
           "xaxis": {
            "backgroundcolor": "#E5ECF6",
            "gridcolor": "white",
            "gridwidth": 2,
            "linecolor": "white",
            "showbackground": true,
            "ticks": "",
            "zerolinecolor": "white"
           },
           "yaxis": {
            "backgroundcolor": "#E5ECF6",
            "gridcolor": "white",
            "gridwidth": 2,
            "linecolor": "white",
            "showbackground": true,
            "ticks": "",
            "zerolinecolor": "white"
           },
           "zaxis": {
            "backgroundcolor": "#E5ECF6",
            "gridcolor": "white",
            "gridwidth": 2,
            "linecolor": "white",
            "showbackground": true,
            "ticks": "",
            "zerolinecolor": "white"
           }
          },
          "shapedefaults": {
           "line": {
            "color": "#2a3f5f"
           }
          },
          "ternary": {
           "aaxis": {
            "gridcolor": "white",
            "linecolor": "white",
            "ticks": ""
           },
           "baxis": {
            "gridcolor": "white",
            "linecolor": "white",
            "ticks": ""
           },
           "bgcolor": "#E5ECF6",
           "caxis": {
            "gridcolor": "white",
            "linecolor": "white",
            "ticks": ""
           }
          },
          "title": {
           "x": 0.05
          },
          "xaxis": {
           "automargin": true,
           "gridcolor": "white",
           "linecolor": "white",
           "ticks": "",
           "title": {
            "standoff": 15
           },
           "zerolinecolor": "white",
           "zerolinewidth": 2
          },
          "yaxis": {
           "automargin": true,
           "gridcolor": "white",
           "linecolor": "white",
           "ticks": "",
           "title": {
            "standoff": 15
           },
           "zerolinecolor": "white",
           "zerolinewidth": 2
          }
         }
        },
        "title": {
         "text": "Relationship between the seasonal means and the seasonal pooled standard deviations"
        },
        "xaxis": {
         "title": {
          "text": "Period"
         }
        },
        "yaxis": {
         "title": {
          "text": "NUmber of calls"
         }
        }
       }
      }
     },
     "metadata": {},
     "output_type": "display_data"
    },
    {
     "data": {
      "text/plain": [
       "0.49601796476619214"
      ]
     },
     "execution_count": 15,
     "metadata": {},
     "output_type": "execute_result"
    }
   ],
   "source": [
    "mean_df = compute_mean(train_df,\"Y\",\"W\")\n",
    "std_df = compute_std(train_df,\"Y\",\"W\")\n",
    "\n",
    "plot_decomposition_type(mean_df,std_df)\n",
    "std_df.corr(mean_df)"
   ]
  },
  {
   "cell_type": "markdown",
   "metadata": {},
   "source": [
    "### **`Period: Year & Season: Day`**"
   ]
  },
  {
   "cell_type": "code",
   "execution_count": 16,
   "metadata": {},
   "outputs": [
    {
     "data": {
      "text/html": [
       "<div>\n",
       "<style scoped>\n",
       "    .dataframe tbody tr th:only-of-type {\n",
       "        vertical-align: middle;\n",
       "    }\n",
       "\n",
       "    .dataframe tbody tr th {\n",
       "        vertical-align: top;\n",
       "    }\n",
       "\n",
       "    .dataframe thead th {\n",
       "        text-align: right;\n",
       "    }\n",
       "</style>\n",
       "<table border=\"1\" class=\"dataframe\">\n",
       "  <thead>\n",
       "    <tr style=\"text-align: right;\">\n",
       "      <th>Date</th>\n",
       "      <th>1</th>\n",
       "      <th>2</th>\n",
       "      <th>3</th>\n",
       "      <th>4</th>\n",
       "      <th>5</th>\n",
       "      <th>6</th>\n",
       "      <th>7</th>\n",
       "      <th>8</th>\n",
       "      <th>9</th>\n",
       "      <th>10</th>\n",
       "      <th>...</th>\n",
       "      <th>356</th>\n",
       "      <th>357</th>\n",
       "      <th>358</th>\n",
       "      <th>359</th>\n",
       "      <th>360</th>\n",
       "      <th>361</th>\n",
       "      <th>362</th>\n",
       "      <th>363</th>\n",
       "      <th>364</th>\n",
       "      <th>365</th>\n",
       "    </tr>\n",
       "  </thead>\n",
       "  <tbody>\n",
       "    <tr>\n",
       "      <th>2017</th>\n",
       "      <td>0.0</td>\n",
       "      <td>5774.0</td>\n",
       "      <td>5744.0</td>\n",
       "      <td>5833.0</td>\n",
       "      <td>5588.0</td>\n",
       "      <td>5236.0</td>\n",
       "      <td>4135.0</td>\n",
       "      <td>785.0</td>\n",
       "      <td>5789.0</td>\n",
       "      <td>5581.0</td>\n",
       "      <td>...</td>\n",
       "      <td>9710.0</td>\n",
       "      <td>6901.0</td>\n",
       "      <td>1699.0</td>\n",
       "      <td>0.0</td>\n",
       "      <td>6958.0</td>\n",
       "      <td>7357.0</td>\n",
       "      <td>6779.0</td>\n",
       "      <td>6291.0</td>\n",
       "      <td>4383.0</td>\n",
       "      <td>827.0</td>\n",
       "    </tr>\n",
       "    <tr>\n",
       "      <th>2018</th>\n",
       "      <td>0.0</td>\n",
       "      <td>6967.0</td>\n",
       "      <td>6468.0</td>\n",
       "      <td>6446.0</td>\n",
       "      <td>6422.0</td>\n",
       "      <td>4604.0</td>\n",
       "      <td>873.0</td>\n",
       "      <td>6426.0</td>\n",
       "      <td>5919.0</td>\n",
       "      <td>6888.0</td>\n",
       "      <td>...</td>\n",
       "      <td>4960.0</td>\n",
       "      <td>1816.0</td>\n",
       "      <td>4566.0</td>\n",
       "      <td>0.0</td>\n",
       "      <td>5729.0</td>\n",
       "      <td>5806.0</td>\n",
       "      <td>5455.0</td>\n",
       "      <td>3647.0</td>\n",
       "      <td>792.0</td>\n",
       "      <td>3183.0</td>\n",
       "    </tr>\n",
       "    <tr>\n",
       "      <th>2019</th>\n",
       "      <td>0.0</td>\n",
       "      <td>6240.0</td>\n",
       "      <td>6132.0</td>\n",
       "      <td>6430.0</td>\n",
       "      <td>4036.0</td>\n",
       "      <td>642.0</td>\n",
       "      <td>6104.0</td>\n",
       "      <td>5753.0</td>\n",
       "      <td>6550.0</td>\n",
       "      <td>6785.0</td>\n",
       "      <td>...</td>\n",
       "      <td>2011.0</td>\n",
       "      <td>7796.0</td>\n",
       "      <td>5705.0</td>\n",
       "      <td>0.0</td>\n",
       "      <td>6348.0</td>\n",
       "      <td>5968.0</td>\n",
       "      <td>3952.0</td>\n",
       "      <td>868.0</td>\n",
       "      <td>5520.0</td>\n",
       "      <td>4051.0</td>\n",
       "    </tr>\n",
       "  </tbody>\n",
       "</table>\n",
       "<p>3 rows × 365 columns</p>\n",
       "</div>"
      ],
      "text/plain": [
       "Date  1       2       3       4       5       6       7       8       9    \\\n",
       "2017  0.0  5774.0  5744.0  5833.0  5588.0  5236.0  4135.0   785.0  5789.0   \n",
       "2018  0.0  6967.0  6468.0  6446.0  6422.0  4604.0   873.0  6426.0  5919.0   \n",
       "2019  0.0  6240.0  6132.0  6430.0  4036.0   642.0  6104.0  5753.0  6550.0   \n",
       "\n",
       "Date     10   ...     356     357     358  359     360     361     362  \\\n",
       "2017  5581.0  ...  9710.0  6901.0  1699.0  0.0  6958.0  7357.0  6779.0   \n",
       "2018  6888.0  ...  4960.0  1816.0  4566.0  0.0  5729.0  5806.0  5455.0   \n",
       "2019  6785.0  ...  2011.0  7796.0  5705.0  0.0  6348.0  5968.0  3952.0   \n",
       "\n",
       "Date     363     364     365  \n",
       "2017  6291.0  4383.0   827.0  \n",
       "2018  3647.0   792.0  3183.0  \n",
       "2019   868.0  5520.0  4051.0  \n",
       "\n",
       "[3 rows x 365 columns]"
      ]
     },
     "execution_count": 16,
     "metadata": {},
     "output_type": "execute_result"
    }
   ],
   "source": [
    "getBuysBallot(train_df,\"Y\",\"D\")"
   ]
  },
  {
   "cell_type": "code",
   "execution_count": 17,
   "metadata": {},
   "outputs": [
    {
     "data": {
      "application/vnd.plotly.v1+json": {
       "config": {
        "plotlyServerURL": "https://plot.ly"
       },
       "data": [
        {
         "line": {
          "color": "black",
          "width": 2
         },
         "name": "Seasonal mean",
         "type": "scatter",
         "x": [
          1,
          2,
          3,
          4,
          5,
          6,
          7,
          8,
          9,
          10,
          11,
          12,
          13,
          14,
          15,
          16,
          17,
          18,
          19,
          20,
          21,
          22,
          23,
          24,
          25,
          26,
          27,
          28,
          29,
          30,
          31,
          32,
          33,
          34,
          35,
          36,
          37,
          38,
          39,
          40,
          41,
          42,
          43,
          44,
          45,
          46,
          47,
          48,
          49,
          50,
          51,
          52,
          53,
          54,
          55,
          56,
          57,
          58,
          59,
          60,
          61,
          62,
          63,
          64,
          65,
          66,
          67,
          68,
          69,
          70,
          71,
          72,
          73,
          74,
          75,
          76,
          77,
          78,
          79,
          80,
          81,
          82,
          83,
          84,
          85,
          86,
          87,
          88,
          89,
          90,
          91,
          92,
          93,
          94,
          95,
          96,
          97,
          98,
          99,
          100,
          101,
          102,
          103,
          104,
          105,
          106,
          107,
          108,
          109,
          110,
          111,
          112,
          113,
          114,
          115,
          116,
          117,
          118,
          119,
          120,
          121,
          122,
          123,
          124,
          125,
          126,
          127,
          128,
          129,
          130,
          131,
          132,
          133,
          134,
          135,
          136,
          137,
          138,
          139,
          140,
          141,
          142,
          143,
          144,
          145,
          146,
          147,
          148,
          149,
          150,
          151,
          152,
          153,
          154,
          155,
          156,
          157,
          158,
          159,
          160,
          161,
          162,
          163,
          164,
          165,
          166,
          167,
          168,
          169,
          170,
          171,
          172,
          173,
          174,
          175,
          176,
          177,
          178,
          179,
          180,
          181,
          182,
          183,
          184,
          185,
          186,
          187,
          188,
          189,
          190,
          191,
          192,
          193,
          194,
          195,
          196,
          197,
          198,
          199,
          200,
          201,
          202,
          203,
          204,
          205,
          206,
          207,
          208,
          209,
          210,
          211,
          212,
          213,
          214,
          215,
          216,
          217,
          218,
          219,
          220,
          221,
          222,
          223,
          224,
          225,
          226,
          227,
          228,
          229,
          230,
          231,
          232,
          233,
          234,
          235,
          236,
          237,
          238,
          239,
          240,
          241,
          242,
          243,
          244,
          245,
          246,
          247,
          248,
          249,
          250,
          251,
          252,
          253,
          254,
          255,
          256,
          257,
          258,
          259,
          260,
          261,
          262,
          263,
          264,
          265,
          266,
          267,
          268,
          269,
          270,
          271,
          272,
          273,
          274,
          275,
          276,
          277,
          278,
          279,
          280,
          281,
          282,
          283,
          284,
          285,
          286,
          287,
          288,
          289,
          290,
          291,
          292,
          293,
          294,
          295,
          296,
          297,
          298,
          299,
          300,
          301,
          302,
          303,
          304,
          305,
          306,
          307,
          308,
          309,
          310,
          311,
          312,
          313,
          314,
          315,
          316,
          317,
          318,
          319,
          320,
          321,
          322,
          323,
          324,
          325,
          326,
          327,
          328,
          329,
          330,
          331,
          332,
          333,
          334,
          335,
          336,
          337,
          338,
          339,
          340,
          341,
          342,
          343,
          344,
          345,
          346,
          347,
          348,
          349,
          350,
          351,
          352,
          353,
          354,
          355,
          356,
          357,
          358,
          359,
          360,
          361,
          362,
          363,
          364,
          365
         ],
         "y": [
          0,
          6327,
          6114.666666666667,
          6236.333333333333,
          5348.666666666667,
          3494,
          3704,
          4321.333333333333,
          6086,
          6418,
          6722.666666666667,
          6209,
          4402.333333333333,
          4667,
          5397.666666666667,
          7261.333333333333,
          6917.333333333333,
          6878.333333333333,
          6040,
          4323.666666666667,
          4374.666666666667,
          5110.333333333333,
          7035,
          6570.666666666667,
          6540.333333333333,
          5816.666666666667,
          4120.333333333333,
          4287,
          4852.333333333333,
          6755.333333333333,
          6425,
          6231.666666666667,
          5413.333333333333,
          4113.333333333333,
          4144,
          4788,
          6561.333333333333,
          6534.666666666667,
          6652.666666666667,
          5835.666666666667,
          4242.666666666667,
          4125.666666666667,
          5207,
          6983,
          6604.666666666667,
          6296,
          5513.666666666667,
          3772,
          3573,
          4592.666666666667,
          6176.666666666667,
          5859.333333333333,
          5569.333333333333,
          4893,
          3341,
          3177,
          4080,
          5600.666666666667,
          5398,
          5411,
          4823,
          3453.3333333333335,
          3273,
          4092.3333333333335,
          5817,
          5579.666666666667,
          5508,
          4880.333333333333,
          3422,
          3271.6666666666665,
          4066.3333333333335,
          5944.666666666667,
          5552,
          5331.333333333333,
          4656.666666666667,
          3267.3333333333335,
          3142,
          3967,
          5693.333333333333,
          5392.333333333333,
          5078,
          4533,
          3274,
          3074.3333333333335,
          3816,
          5403,
          5191,
          5133,
          4543.333333333333,
          3194,
          2961.3333333333335,
          2360.3333333333335,
          5718.333333333333,
          5434.333333333333,
          5366.666666666667,
          4629,
          3326.6666666666665,
          3105.3333333333335,
          4036.6666666666665,
          5696.333333333333,
          5390.333333333333,
          5076,
          4528.666666666667,
          3033.3333333333335,
          2953,
          3843.6666666666665,
          4020,
          5534.666666666667,
          4940.333333333333,
          4338.333333333333,
          2961,
          1708.6666666666667,
          3995,
          5110.666666666667,
          4917,
          4922,
          4446,
          3278,
          2999.6666666666665,
          3896.3333333333335,
          0,
          6559.666666666667,
          5430.333333333333,
          4428.333333333333,
          2984.6666666666665,
          3202,
          3532.6666666666665,
          2115.6666666666665,
          5804,
          4381.666666666667,
          4612.666666666667,
          3081,
          3261.6666666666665,
          4153,
          5539.333333333333,
          5313.333333333333,
          5095.666666666667,
          4466.666666666667,
          2943.6666666666665,
          3271,
          2826.3333333333335,
          5358.666666666667,
          5278.666666666667,
          5395.666666666667,
          3720.3333333333335,
          3080.6666666666665,
          3036,
          3978.6666666666665,
          5645.333333333333,
          4534,
          5182.333333333333,
          4543.333333333333,
          3163.6666666666665,
          3277.6666666666665,
          3786.3333333333335,
          4672,
          5743,
          5539,
          4807.666666666667,
          3237,
          2174.3333333333335,
          4335,
          6014.333333333333,
          5907,
          5922.666666666667,
          5119.666666666667,
          3441.6666666666665,
          3634,
          4372.666666666667,
          5992,
          5804,
          5957.333333333333,
          5176.333333333333,
          3363,
          3778.3333333333335,
          4279.333333333333,
          6326.333333333333,
          6532.666666666667,
          6801,
          5870,
          3733.3333333333335,
          4543.333333333333,
          5090.666666666667,
          7020.333333333333,
          7622,
          7266,
          6004.666666666667,
          4417.333333333333,
          4556.666666666667,
          5326.333333333333,
          7559.666666666667,
          8097,
          7504.666666666667,
          6234,
          2205,
          4503,
          4836.333333333333,
          7666.333333333333,
          7662,
          7080,
          6224.666666666667,
          4138.333333333333,
          4402.333333333333,
          4863.333333333333,
          7364.666666666667,
          7001.333333333333,
          7188.333333333333,
          5984.333333333333,
          3920,
          4076.6666666666665,
          4896.666666666667,
          7130.666666666667,
          7003.666666666667,
          6994,
          6116.666666666667,
          4212.666666666667,
          3950,
          4470,
          6353.333333333333,
          6479.333333333333,
          6382.333333333333,
          5330,
          3457.3333333333335,
          3646,
          4181,
          5755.666666666667,
          2115,
          6184.333333333333,
          5264.666666666667,
          3373.6666666666665,
          3884.6666666666665,
          4386,
          6621.333333333333,
          6346.333333333333,
          5970.333333333333,
          5111,
          3560.3333333333335,
          3826.6666666666665,
          4346.666666666667,
          6611.333333333333,
          6486,
          6249,
          5588,
          3853.6666666666665,
          4010,
          4423.666666666667,
          6642.666666666667,
          7271.333333333333,
          6590,
          5882,
          3887,
          4303,
          4712.666666666667,
          6757.333333333333,
          6361.666666666667,
          6425.666666666667,
          5590.333333333333,
          4011.6666666666665,
          4079,
          4449.666666666667,
          6547.333333333333,
          6192.666666666667,
          6279,
          5469,
          3643.6666666666665,
          3689.3333333333335,
          4125.333333333333,
          5992,
          5760,
          5821,
          5023.333333333333,
          3664,
          3760.3333333333335,
          4262.666666666667,
          6595.666666666667,
          6549.333333333333,
          6383.666666666667,
          5458,
          3654,
          3697.3333333333335,
          4614.666666666667,
          6208.666666666667,
          6251.333333333333,
          5964,
          5095.666666666667,
          3630.3333333333335,
          3478,
          4075.3333333333335,
          5954,
          5764,
          5791.333333333333,
          5081,
          3410.3333333333335,
          3553.6666666666665,
          3886,
          5816.333333333333,
          5441.666666666667,
          5436.666666666667,
          4629.333333333333,
          3631.3333333333335,
          3600,
          3890.6666666666665,
          6056.333333333333,
          5500.333333333333,
          2146.3333333333335,
          5412.666666666667,
          3842.3333333333335,
          3930,
          4251.666666666667,
          6265.333333333333,
          6004.333333333333,
          5776.666666666667,
          5210.666666666667,
          3617.6666666666665,
          2257.6666666666665,
          4410.333333333333,
          6278,
          6125.666666666667,
          6151,
          5314,
          3358.3333333333335,
          3650.3333333333335,
          4303,
          6509,
          6345,
          6610.333333333333,
          7812,
          7729,
          6636.333333333333,
          7556.333333333333,
          10038.666666666666,
          9529.666666666666,
          10238,
          8563.666666666666,
          5441,
          5618.666666666667,
          6347.666666666667,
          9357.333333333334,
          8780.666666666666,
          9099,
          7778,
          4891.666666666667,
          5778,
          6365.666666666667,
          9562.333333333334,
          8329.666666666666,
          8638,
          7412.666666666667,
          5346.666666666667,
          6055.666666666667,
          6624.333333333333,
          9108.666666666666,
          9762,
          9918.666666666666,
          8309,
          5560.333333333333,
          5504.333333333333,
          3990,
          0,
          6345,
          6377,
          5395.333333333333,
          3602,
          3565,
          2687
         ]
        },
        {
         "line": {
          "color": "black",
          "dash": "dash",
          "width": 1
         },
         "name": "Seasonal standard deviation",
         "type": "scatter",
         "x": [
          1,
          2,
          3,
          4,
          5,
          6,
          7,
          8,
          9,
          10,
          11,
          12,
          13,
          14,
          15,
          16,
          17,
          18,
          19,
          20,
          21,
          22,
          23,
          24,
          25,
          26,
          27,
          28,
          29,
          30,
          31,
          32,
          33,
          34,
          35,
          36,
          37,
          38,
          39,
          40,
          41,
          42,
          43,
          44,
          45,
          46,
          47,
          48,
          49,
          50,
          51,
          52,
          53,
          54,
          55,
          56,
          57,
          58,
          59,
          60,
          61,
          62,
          63,
          64,
          65,
          66,
          67,
          68,
          69,
          70,
          71,
          72,
          73,
          74,
          75,
          76,
          77,
          78,
          79,
          80,
          81,
          82,
          83,
          84,
          85,
          86,
          87,
          88,
          89,
          90,
          91,
          92,
          93,
          94,
          95,
          96,
          97,
          98,
          99,
          100,
          101,
          102,
          103,
          104,
          105,
          106,
          107,
          108,
          109,
          110,
          111,
          112,
          113,
          114,
          115,
          116,
          117,
          118,
          119,
          120,
          121,
          122,
          123,
          124,
          125,
          126,
          127,
          128,
          129,
          130,
          131,
          132,
          133,
          134,
          135,
          136,
          137,
          138,
          139,
          140,
          141,
          142,
          143,
          144,
          145,
          146,
          147,
          148,
          149,
          150,
          151,
          152,
          153,
          154,
          155,
          156,
          157,
          158,
          159,
          160,
          161,
          162,
          163,
          164,
          165,
          166,
          167,
          168,
          169,
          170,
          171,
          172,
          173,
          174,
          175,
          176,
          177,
          178,
          179,
          180,
          181,
          182,
          183,
          184,
          185,
          186,
          187,
          188,
          189,
          190,
          191,
          192,
          193,
          194,
          195,
          196,
          197,
          198,
          199,
          200,
          201,
          202,
          203,
          204,
          205,
          206,
          207,
          208,
          209,
          210,
          211,
          212,
          213,
          214,
          215,
          216,
          217,
          218,
          219,
          220,
          221,
          222,
          223,
          224,
          225,
          226,
          227,
          228,
          229,
          230,
          231,
          232,
          233,
          234,
          235,
          236,
          237,
          238,
          239,
          240,
          241,
          242,
          243,
          244,
          245,
          246,
          247,
          248,
          249,
          250,
          251,
          252,
          253,
          254,
          255,
          256,
          257,
          258,
          259,
          260,
          261,
          262,
          263,
          264,
          265,
          266,
          267,
          268,
          269,
          270,
          271,
          272,
          273,
          274,
          275,
          276,
          277,
          278,
          279,
          280,
          281,
          282,
          283,
          284,
          285,
          286,
          287,
          288,
          289,
          290,
          291,
          292,
          293,
          294,
          295,
          296,
          297,
          298,
          299,
          300,
          301,
          302,
          303,
          304,
          305,
          306,
          307,
          308,
          309,
          310,
          311,
          312,
          313,
          314,
          315,
          316,
          317,
          318,
          319,
          320,
          321,
          322,
          323,
          324,
          325,
          326,
          327,
          328,
          329,
          330,
          331,
          332,
          333,
          334,
          335,
          336,
          337,
          338,
          339,
          340,
          341,
          342,
          343,
          344,
          345,
          346,
          347,
          348,
          349,
          350,
          351,
          352,
          353,
          354,
          355,
          356,
          357,
          358,
          359,
          360,
          361,
          362,
          363,
          364,
          365
         ],
         "y": [
          0,
          601.2395529237909,
          362.31110020717466,
          349.38851345362417,
          1210.8713116319725,
          2490.036947517044,
          2641.9994322482357,
          3080.9856106988445,
          407.0589637878031,
          726.6904430360977,
          265.65830183401636,
          647.5716176609349,
          2770.3231460126335,
          3129.039309436684,
          3506.2494682114866,
          348.7554061707622,
          228.38636853659486,
          277.2549969492585,
          1242.1223772237581,
          2995.570118246831,
          2918.3566151745977,
          3427.4571234857676,
          326.57770897598016,
          377.2589738274404,
          146.30219866199323,
          1065.1954437253914,
          2803.3765949892168,
          2832.2335708765263,
          3296.652898521974,
          249.65242504997488,
          142.15836239912164,
          160.25084503157333,
          1084.9079838093799,
          2835.8755849531435,
          2932.1236331369114,
          3349.4487606171856,
          284.7197452466782,
          463.6661873949116,
          592.9134281944822,
          1737.0637102113822,
          3035.6107018742264,
          3044.3351217192453,
          3831.723894019505,
          726.5968620906644,
          1222.027140997013,
          724.9937930768787,
          1697.239621660222,
          2668.571715356363,
          2504.198274897577,
          3340.671239935671,
          475.33812526803837,
          811.5320901439038,
          752.7020216083741,
          1537.011385774354,
          2430.1323009251987,
          2156.4445274571754,
          2986.0495642236083,
          587.8999347961635,
          768.1842226966133,
          759.954603907365,
          1655.7019659346909,
          2490.675878819509,
          2160.237718400454,
          2944.41595793348,
          618.3494157836651,
          863.9700997912679,
          533.2701004181652,
          1392.4368327982902,
          2326.392056382587,
          2303.6374135990527,
          3091.8027643000346,
          646.8974674037095,
          575.2973144383693,
          474.64337489670424,
          1445.3810339607107,
          2351.551898924056,
          2071.1549917859843,
          2850.8558364112346,
          800.0602060678517,
          1098.218709243898,
          738.5201419054189,
          1555.3028643965135,
          2375.0050526262044,
          1995.9863058982478,
          2856.6356085437287,
          792.5648238472359,
          1073.0684973476764,
          701.1198185759692,
          1533.9603428163757,
          2204.876187000077,
          2003.0527535073393,
          2003.7271104951726,
          1223.8596052380083,
          1115.3279039517183,
          872.0735825223312,
          1269.9893700342534,
          2156.521581930803,
          2238.746152053272,
          3149.173912843388,
          1037.0773034510655,
          915.3919015008454,
          626.6003511010827,
          1502.7349511252253,
          2122.979588534316,
          2088.5791821235794,
          2974.5497698531344,
          2458.289649329387,
          763.5157715026804,
          704.0059185357275,
          1542.5917584809447,
          2322.2779764705174,
          1293.244885291774,
          3044.891295268191,
          450.2403062069558,
          518.9865123488278,
          258.19178918005895,
          1021.6985856895369,
          2310.345645136242,
          2144.597942117201,
          2874.995884055025,
          0,
          680.4118850617862,
          316.60753833939793,
          837.7125600904724,
          2256.6573362682543,
          2455.025050788688,
          2530.8728402140896,
          128.10282328400623,
          271.5805589507467,
          1824.0003654970394,
          1034.3211944716852,
          2295.186920492534,
          2379.6756781824984,
          3013.3504608657786,
          223.43306231024388,
          271.1850536687694,
          220.30282189144407,
          693.226033363818,
          2210.4918758804192,
          2726.6204356308926,
          2641.9353385980767,
          257.078457544255,
          322.45981661802966,
          312.3480964138141,
          1561.067690183015,
          2153.2399618559316,
          2209.2172822065286,
          2852.169408245824,
          703.9277898572647,
          2295.654808545919,
          800.110200743206,
          1582.2902177961328,
          2388.9121652612794,
          2414.716822597079,
          2665.7539896497074,
          1577.4355771314404,
          705.008510586929,
          640.0929619984897,
          1403.8384284999943,
          2459.628223939545,
          1435.1858183989045,
          3114.8905277714016,
          75.96271015000276,
          120.21647141718975,
          328.7709435660842,
          824.7316735359043,
          2554.0167057662984,
          2787.100105844783,
          3137.215378856436,
          681.7778230479487,
          911.8492199919897,
          1464.8564207229776,
          1595.523842922234,
          2769.6496168288145,
          3083.3732069493844,
          3027.308100166439,
          1107.287827682276,
          1002.552907997046,
          1290.7265395892346,
          835.7936348166335,
          2766.6236342034913,
          3588.5804064188574,
          3465.0039442016996,
          1254.275222322969,
          740.5126602563929,
          453.9306114374751,
          1150.6417050208693,
          3431.6605795639716,
          3421.1337789296304,
          3567.1873140239404,
          916.2676101081678,
          1636.0647908930746,
          949.6738036469856,
          1802.2843837752132,
          954.079137178882,
          3870.89292024463,
          3404.1200527204287,
          806.8762813054634,
          1059.7211897475675,
          1040.1312417190438,
          2256.584218090106,
          3481.5341924693676,
          3337.4263038055733,
          3205.9604385165662,
          1419.0751683167925,
          753.6221422790956,
          654.6329760509574,
          1827.363218775439,
          3143.501073643844,
          3041.750537656455,
          3466.0554429110525,
          980.5367577675676,
          1239.1659829632727,
          1628.0884496857043,
          2223.039885682066,
          3574.292983700879,
          2942.167058479175,
          3151.520109407522,
          829.6657961693572,
          870.0576609244547,
          666.3575116507154,
          1717.6184093098211,
          3033.325787536402,
          2873.5951350181535,
          2948.7392221083232,
          354.2489708288979,
          332.44999624003606,
          933.5128993931114,
          1941.9635252324729,
          2824.7665980277616,
          3158.996095808498,
          3077.753563883892,
          891.1062413277855,
          574.7228317487773,
          682.4473117635773,
          1612.4555807835452,
          2830.03645441774,
          2918.2399375879518,
          2960.847401223733,
          1032.2133177465466,
          773.6323416197127,
          825.3296311171677,
          1590.8227431112493,
          3064.062880120663,
          2883.585961957784,
          2822.289909512014,
          1086.8603099448121,
          498.1990900567095,
          886.7846412743063,
          1753.903361077799,
          3165.106633274778,
          3188.1406807103103,
          3031.098205821338,
          1293.8339666793931,
          930.4258881465698,
          1008.7479037565993,
          1704.8490646779653,
          3248.2922179713655,
          2984.1425904269386,
          2991.6587929329994,
          986.3271938526958,
          887.570466686073,
          792.2960305340422,
          1745.3438056726818,
          2753.1540700319215,
          2653.4114519488553,
          2762.5331370561576,
          1007.5906907072931,
          883.9779409012422,
          735.1659676562837,
          1425.8784426918492,
          2768.4925501073685,
          2641.92019813872,
          2867.2157807415424,
          671.9436980382608,
          349.9661888430557,
          133.97885405291885,
          1459.3556797436327,
          2660.3789203795764,
          2693.7361291212865,
          3248.4719997767156,
          749.1043541011715,
          676.0150392804389,
          712.5889418170899,
          1435.7340747273965,
          2899.4938063967875,
          2398.122599034503,
          2772.8550869696264,
          918.5880469503182,
          672.9836550764068,
          559.1693243851395,
          1299.6834229919223,
          2526.1018058133236,
          2582.9172137978667,
          2646.6492022933453,
          689.8205080550543,
          449.9248085328629,
          663.3432997576242,
          1311.183562028343,
          2953.05880966386,
          2485.731481878121,
          2502.6846252241476,
          1156.5138707915842,
          710.4437580367171,
          454.29652577730917,
          2281.0165131654207,
          3334.135620117054,
          2878.043780070067,
          2743.5882222617397,
          1070.1450057507784,
          803.8111303865687,
          949.3652265241935,
          1391.4658937010759,
          2912.504821169114,
          1637.4139163123457,
          3059.2277347940826,
          781.1574745209829,
          400.10040406544624,
          676.2211176826704,
          1178.2032931544538,
          2654.364205103236,
          2623.7058397109486,
          2945.352440710619,
          907.1868605750416,
          1049.0057197174856,
          1191.0505167008382,
          4971.962489802191,
          6098.8939980950645,
          1027.561352588415,
          6069.3952197342805,
          2661.3187207347664,
          1952.5394575611867,
          216.19666972458202,
          1608.4938089198024,
          3533.536613649277,
          4160.1382589204095,
          4203.2490210946735,
          691.1167291661615,
          1183.3031451548386,
          1546.8409743732548,
          1240.3132668805893,
          3167.779085310927,
          4433.284561135231,
          3968.820017755067,
          1758.8491502494844,
          513.8660655592402,
          1250.6850123032577,
          1687.596021959442,
          3867.5240572404114,
          4072.75549638489,
          3618.259848785509,
          1450.8129904758,
          1309.3903161395383,
          1334.498532533226,
          1566.5825863962614,
          3884.4498108912844,
          3225.3849899404777,
          2064.180466916592,
          0,
          614.5054922455942,
          852.5614347365239,
          1414.4441782316237,
          2711.7800427025786,
          2467.861219760949,
          1668.2493818371402
         ]
        }
       ],
       "layout": {
        "template": {
         "data": {
          "bar": [
           {
            "error_x": {
             "color": "#2a3f5f"
            },
            "error_y": {
             "color": "#2a3f5f"
            },
            "marker": {
             "line": {
              "color": "#E5ECF6",
              "width": 0.5
             },
             "pattern": {
              "fillmode": "overlay",
              "size": 10,
              "solidity": 0.2
             }
            },
            "type": "bar"
           }
          ],
          "barpolar": [
           {
            "marker": {
             "line": {
              "color": "#E5ECF6",
              "width": 0.5
             },
             "pattern": {
              "fillmode": "overlay",
              "size": 10,
              "solidity": 0.2
             }
            },
            "type": "barpolar"
           }
          ],
          "carpet": [
           {
            "aaxis": {
             "endlinecolor": "#2a3f5f",
             "gridcolor": "white",
             "linecolor": "white",
             "minorgridcolor": "white",
             "startlinecolor": "#2a3f5f"
            },
            "baxis": {
             "endlinecolor": "#2a3f5f",
             "gridcolor": "white",
             "linecolor": "white",
             "minorgridcolor": "white",
             "startlinecolor": "#2a3f5f"
            },
            "type": "carpet"
           }
          ],
          "choropleth": [
           {
            "colorbar": {
             "outlinewidth": 0,
             "ticks": ""
            },
            "type": "choropleth"
           }
          ],
          "contour": [
           {
            "colorbar": {
             "outlinewidth": 0,
             "ticks": ""
            },
            "colorscale": [
             [
              0,
              "#0d0887"
             ],
             [
              0.1111111111111111,
              "#46039f"
             ],
             [
              0.2222222222222222,
              "#7201a8"
             ],
             [
              0.3333333333333333,
              "#9c179e"
             ],
             [
              0.4444444444444444,
              "#bd3786"
             ],
             [
              0.5555555555555556,
              "#d8576b"
             ],
             [
              0.6666666666666666,
              "#ed7953"
             ],
             [
              0.7777777777777778,
              "#fb9f3a"
             ],
             [
              0.8888888888888888,
              "#fdca26"
             ],
             [
              1,
              "#f0f921"
             ]
            ],
            "type": "contour"
           }
          ],
          "contourcarpet": [
           {
            "colorbar": {
             "outlinewidth": 0,
             "ticks": ""
            },
            "type": "contourcarpet"
           }
          ],
          "heatmap": [
           {
            "colorbar": {
             "outlinewidth": 0,
             "ticks": ""
            },
            "colorscale": [
             [
              0,
              "#0d0887"
             ],
             [
              0.1111111111111111,
              "#46039f"
             ],
             [
              0.2222222222222222,
              "#7201a8"
             ],
             [
              0.3333333333333333,
              "#9c179e"
             ],
             [
              0.4444444444444444,
              "#bd3786"
             ],
             [
              0.5555555555555556,
              "#d8576b"
             ],
             [
              0.6666666666666666,
              "#ed7953"
             ],
             [
              0.7777777777777778,
              "#fb9f3a"
             ],
             [
              0.8888888888888888,
              "#fdca26"
             ],
             [
              1,
              "#f0f921"
             ]
            ],
            "type": "heatmap"
           }
          ],
          "heatmapgl": [
           {
            "colorbar": {
             "outlinewidth": 0,
             "ticks": ""
            },
            "colorscale": [
             [
              0,
              "#0d0887"
             ],
             [
              0.1111111111111111,
              "#46039f"
             ],
             [
              0.2222222222222222,
              "#7201a8"
             ],
             [
              0.3333333333333333,
              "#9c179e"
             ],
             [
              0.4444444444444444,
              "#bd3786"
             ],
             [
              0.5555555555555556,
              "#d8576b"
             ],
             [
              0.6666666666666666,
              "#ed7953"
             ],
             [
              0.7777777777777778,
              "#fb9f3a"
             ],
             [
              0.8888888888888888,
              "#fdca26"
             ],
             [
              1,
              "#f0f921"
             ]
            ],
            "type": "heatmapgl"
           }
          ],
          "histogram": [
           {
            "marker": {
             "pattern": {
              "fillmode": "overlay",
              "size": 10,
              "solidity": 0.2
             }
            },
            "type": "histogram"
           }
          ],
          "histogram2d": [
           {
            "colorbar": {
             "outlinewidth": 0,
             "ticks": ""
            },
            "colorscale": [
             [
              0,
              "#0d0887"
             ],
             [
              0.1111111111111111,
              "#46039f"
             ],
             [
              0.2222222222222222,
              "#7201a8"
             ],
             [
              0.3333333333333333,
              "#9c179e"
             ],
             [
              0.4444444444444444,
              "#bd3786"
             ],
             [
              0.5555555555555556,
              "#d8576b"
             ],
             [
              0.6666666666666666,
              "#ed7953"
             ],
             [
              0.7777777777777778,
              "#fb9f3a"
             ],
             [
              0.8888888888888888,
              "#fdca26"
             ],
             [
              1,
              "#f0f921"
             ]
            ],
            "type": "histogram2d"
           }
          ],
          "histogram2dcontour": [
           {
            "colorbar": {
             "outlinewidth": 0,
             "ticks": ""
            },
            "colorscale": [
             [
              0,
              "#0d0887"
             ],
             [
              0.1111111111111111,
              "#46039f"
             ],
             [
              0.2222222222222222,
              "#7201a8"
             ],
             [
              0.3333333333333333,
              "#9c179e"
             ],
             [
              0.4444444444444444,
              "#bd3786"
             ],
             [
              0.5555555555555556,
              "#d8576b"
             ],
             [
              0.6666666666666666,
              "#ed7953"
             ],
             [
              0.7777777777777778,
              "#fb9f3a"
             ],
             [
              0.8888888888888888,
              "#fdca26"
             ],
             [
              1,
              "#f0f921"
             ]
            ],
            "type": "histogram2dcontour"
           }
          ],
          "mesh3d": [
           {
            "colorbar": {
             "outlinewidth": 0,
             "ticks": ""
            },
            "type": "mesh3d"
           }
          ],
          "parcoords": [
           {
            "line": {
             "colorbar": {
              "outlinewidth": 0,
              "ticks": ""
             }
            },
            "type": "parcoords"
           }
          ],
          "pie": [
           {
            "automargin": true,
            "type": "pie"
           }
          ],
          "scatter": [
           {
            "fillpattern": {
             "fillmode": "overlay",
             "size": 10,
             "solidity": 0.2
            },
            "type": "scatter"
           }
          ],
          "scatter3d": [
           {
            "line": {
             "colorbar": {
              "outlinewidth": 0,
              "ticks": ""
             }
            },
            "marker": {
             "colorbar": {
              "outlinewidth": 0,
              "ticks": ""
             }
            },
            "type": "scatter3d"
           }
          ],
          "scattercarpet": [
           {
            "marker": {
             "colorbar": {
              "outlinewidth": 0,
              "ticks": ""
             }
            },
            "type": "scattercarpet"
           }
          ],
          "scattergeo": [
           {
            "marker": {
             "colorbar": {
              "outlinewidth": 0,
              "ticks": ""
             }
            },
            "type": "scattergeo"
           }
          ],
          "scattergl": [
           {
            "marker": {
             "colorbar": {
              "outlinewidth": 0,
              "ticks": ""
             }
            },
            "type": "scattergl"
           }
          ],
          "scattermapbox": [
           {
            "marker": {
             "colorbar": {
              "outlinewidth": 0,
              "ticks": ""
             }
            },
            "type": "scattermapbox"
           }
          ],
          "scatterpolar": [
           {
            "marker": {
             "colorbar": {
              "outlinewidth": 0,
              "ticks": ""
             }
            },
            "type": "scatterpolar"
           }
          ],
          "scatterpolargl": [
           {
            "marker": {
             "colorbar": {
              "outlinewidth": 0,
              "ticks": ""
             }
            },
            "type": "scatterpolargl"
           }
          ],
          "scatterternary": [
           {
            "marker": {
             "colorbar": {
              "outlinewidth": 0,
              "ticks": ""
             }
            },
            "type": "scatterternary"
           }
          ],
          "surface": [
           {
            "colorbar": {
             "outlinewidth": 0,
             "ticks": ""
            },
            "colorscale": [
             [
              0,
              "#0d0887"
             ],
             [
              0.1111111111111111,
              "#46039f"
             ],
             [
              0.2222222222222222,
              "#7201a8"
             ],
             [
              0.3333333333333333,
              "#9c179e"
             ],
             [
              0.4444444444444444,
              "#bd3786"
             ],
             [
              0.5555555555555556,
              "#d8576b"
             ],
             [
              0.6666666666666666,
              "#ed7953"
             ],
             [
              0.7777777777777778,
              "#fb9f3a"
             ],
             [
              0.8888888888888888,
              "#fdca26"
             ],
             [
              1,
              "#f0f921"
             ]
            ],
            "type": "surface"
           }
          ],
          "table": [
           {
            "cells": {
             "fill": {
              "color": "#EBF0F8"
             },
             "line": {
              "color": "white"
             }
            },
            "header": {
             "fill": {
              "color": "#C8D4E3"
             },
             "line": {
              "color": "white"
             }
            },
            "type": "table"
           }
          ]
         },
         "layout": {
          "annotationdefaults": {
           "arrowcolor": "#2a3f5f",
           "arrowhead": 0,
           "arrowwidth": 1
          },
          "autotypenumbers": "strict",
          "coloraxis": {
           "colorbar": {
            "outlinewidth": 0,
            "ticks": ""
           }
          },
          "colorscale": {
           "diverging": [
            [
             0,
             "#8e0152"
            ],
            [
             0.1,
             "#c51b7d"
            ],
            [
             0.2,
             "#de77ae"
            ],
            [
             0.3,
             "#f1b6da"
            ],
            [
             0.4,
             "#fde0ef"
            ],
            [
             0.5,
             "#f7f7f7"
            ],
            [
             0.6,
             "#e6f5d0"
            ],
            [
             0.7,
             "#b8e186"
            ],
            [
             0.8,
             "#7fbc41"
            ],
            [
             0.9,
             "#4d9221"
            ],
            [
             1,
             "#276419"
            ]
           ],
           "sequential": [
            [
             0,
             "#0d0887"
            ],
            [
             0.1111111111111111,
             "#46039f"
            ],
            [
             0.2222222222222222,
             "#7201a8"
            ],
            [
             0.3333333333333333,
             "#9c179e"
            ],
            [
             0.4444444444444444,
             "#bd3786"
            ],
            [
             0.5555555555555556,
             "#d8576b"
            ],
            [
             0.6666666666666666,
             "#ed7953"
            ],
            [
             0.7777777777777778,
             "#fb9f3a"
            ],
            [
             0.8888888888888888,
             "#fdca26"
            ],
            [
             1,
             "#f0f921"
            ]
           ],
           "sequentialminus": [
            [
             0,
             "#0d0887"
            ],
            [
             0.1111111111111111,
             "#46039f"
            ],
            [
             0.2222222222222222,
             "#7201a8"
            ],
            [
             0.3333333333333333,
             "#9c179e"
            ],
            [
             0.4444444444444444,
             "#bd3786"
            ],
            [
             0.5555555555555556,
             "#d8576b"
            ],
            [
             0.6666666666666666,
             "#ed7953"
            ],
            [
             0.7777777777777778,
             "#fb9f3a"
            ],
            [
             0.8888888888888888,
             "#fdca26"
            ],
            [
             1,
             "#f0f921"
            ]
           ]
          },
          "colorway": [
           "#636efa",
           "#EF553B",
           "#00cc96",
           "#ab63fa",
           "#FFA15A",
           "#19d3f3",
           "#FF6692",
           "#B6E880",
           "#FF97FF",
           "#FECB52"
          ],
          "font": {
           "color": "#2a3f5f"
          },
          "geo": {
           "bgcolor": "white",
           "lakecolor": "white",
           "landcolor": "#E5ECF6",
           "showlakes": true,
           "showland": true,
           "subunitcolor": "white"
          },
          "hoverlabel": {
           "align": "left"
          },
          "hovermode": "closest",
          "mapbox": {
           "style": "light"
          },
          "paper_bgcolor": "white",
          "plot_bgcolor": "#E5ECF6",
          "polar": {
           "angularaxis": {
            "gridcolor": "white",
            "linecolor": "white",
            "ticks": ""
           },
           "bgcolor": "#E5ECF6",
           "radialaxis": {
            "gridcolor": "white",
            "linecolor": "white",
            "ticks": ""
           }
          },
          "scene": {
           "xaxis": {
            "backgroundcolor": "#E5ECF6",
            "gridcolor": "white",
            "gridwidth": 2,
            "linecolor": "white",
            "showbackground": true,
            "ticks": "",
            "zerolinecolor": "white"
           },
           "yaxis": {
            "backgroundcolor": "#E5ECF6",
            "gridcolor": "white",
            "gridwidth": 2,
            "linecolor": "white",
            "showbackground": true,
            "ticks": "",
            "zerolinecolor": "white"
           },
           "zaxis": {
            "backgroundcolor": "#E5ECF6",
            "gridcolor": "white",
            "gridwidth": 2,
            "linecolor": "white",
            "showbackground": true,
            "ticks": "",
            "zerolinecolor": "white"
           }
          },
          "shapedefaults": {
           "line": {
            "color": "#2a3f5f"
           }
          },
          "ternary": {
           "aaxis": {
            "gridcolor": "white",
            "linecolor": "white",
            "ticks": ""
           },
           "baxis": {
            "gridcolor": "white",
            "linecolor": "white",
            "ticks": ""
           },
           "bgcolor": "#E5ECF6",
           "caxis": {
            "gridcolor": "white",
            "linecolor": "white",
            "ticks": ""
           }
          },
          "title": {
           "x": 0.05
          },
          "xaxis": {
           "automargin": true,
           "gridcolor": "white",
           "linecolor": "white",
           "ticks": "",
           "title": {
            "standoff": 15
           },
           "zerolinecolor": "white",
           "zerolinewidth": 2
          },
          "yaxis": {
           "automargin": true,
           "gridcolor": "white",
           "linecolor": "white",
           "ticks": "",
           "title": {
            "standoff": 15
           },
           "zerolinecolor": "white",
           "zerolinewidth": 2
          }
         }
        },
        "title": {
         "text": "Relationship between the seasonal means and the seasonal pooled standard deviations"
        },
        "xaxis": {
         "title": {
          "text": "Period"
         }
        },
        "yaxis": {
         "title": {
          "text": "NUmber of calls"
         }
        }
       }
      }
     },
     "metadata": {},
     "output_type": "display_data"
    },
    {
     "data": {
      "text/plain": [
       "-0.34295429848293985"
      ]
     },
     "execution_count": 17,
     "metadata": {},
     "output_type": "execute_result"
    }
   ],
   "source": [
    "mean_df = compute_mean(train_df,\"Y\",\"D\")\n",
    "std_df = compute_std(train_df,\"Y\",\"D\")\n",
    "\n",
    "plot_decomposition_type(mean_df,std_df)\n",
    "std_df.corr(mean_df)"
   ]
  },
  {
   "cell_type": "markdown",
   "metadata": {},
   "source": [
    "### **`Period: Month & Season: Week Day`**"
   ]
  },
  {
   "cell_type": "code",
   "execution_count": 18,
   "metadata": {},
   "outputs": [
    {
     "data": {
      "text/html": [
       "<div>\n",
       "<style scoped>\n",
       "    .dataframe tbody tr th:only-of-type {\n",
       "        vertical-align: middle;\n",
       "    }\n",
       "\n",
       "    .dataframe tbody tr th {\n",
       "        vertical-align: top;\n",
       "    }\n",
       "\n",
       "    .dataframe thead th {\n",
       "        text-align: right;\n",
       "    }\n",
       "</style>\n",
       "<table border=\"1\" class=\"dataframe\">\n",
       "  <thead>\n",
       "    <tr style=\"text-align: right;\">\n",
       "      <th>Date</th>\n",
       "      <th>0</th>\n",
       "      <th>1</th>\n",
       "      <th>2</th>\n",
       "      <th>3</th>\n",
       "      <th>4</th>\n",
       "      <th>5</th>\n",
       "      <th>6</th>\n",
       "    </tr>\n",
       "  </thead>\n",
       "  <tbody>\n",
       "    <tr>\n",
       "      <th>1</th>\n",
       "      <td>88718.0</td>\n",
       "      <td>90551.0</td>\n",
       "      <td>94610.0</td>\n",
       "      <td>83337.0</td>\n",
       "      <td>78185.0</td>\n",
       "      <td>57839.0</td>\n",
       "      <td>13031.0</td>\n",
       "    </tr>\n",
       "    <tr>\n",
       "      <th>2</th>\n",
       "      <td>79294.0</td>\n",
       "      <td>74653.0</td>\n",
       "      <td>76305.0</td>\n",
       "      <td>71410.0</td>\n",
       "      <td>72462.0</td>\n",
       "      <td>51496.0</td>\n",
       "      <td>10220.0</td>\n",
       "    </tr>\n",
       "    <tr>\n",
       "      <th>3</th>\n",
       "      <td>70210.0</td>\n",
       "      <td>65381.0</td>\n",
       "      <td>72676.0</td>\n",
       "      <td>72714.0</td>\n",
       "      <td>77413.0</td>\n",
       "      <td>51104.0</td>\n",
       "      <td>9854.0</td>\n",
       "    </tr>\n",
       "    <tr>\n",
       "      <th>4</th>\n",
       "      <td>65254.0</td>\n",
       "      <td>70335.0</td>\n",
       "      <td>64264.0</td>\n",
       "      <td>60581.0</td>\n",
       "      <td>59347.0</td>\n",
       "      <td>44071.0</td>\n",
       "      <td>9731.0</td>\n",
       "    </tr>\n",
       "    <tr>\n",
       "      <th>5</th>\n",
       "      <td>60768.0</td>\n",
       "      <td>69202.0</td>\n",
       "      <td>74613.0</td>\n",
       "      <td>65208.0</td>\n",
       "      <td>65220.0</td>\n",
       "      <td>41866.0</td>\n",
       "      <td>7764.0</td>\n",
       "    </tr>\n",
       "    <tr>\n",
       "      <th>6</th>\n",
       "      <td>66754.0</td>\n",
       "      <td>70978.0</td>\n",
       "      <td>73617.0</td>\n",
       "      <td>76212.0</td>\n",
       "      <td>80535.0</td>\n",
       "      <td>52398.0</td>\n",
       "      <td>9420.0</td>\n",
       "    </tr>\n",
       "    <tr>\n",
       "      <th>7</th>\n",
       "      <td>113244.0</td>\n",
       "      <td>102701.0</td>\n",
       "      <td>95646.0</td>\n",
       "      <td>87650.0</td>\n",
       "      <td>78174.0</td>\n",
       "      <td>57179.0</td>\n",
       "      <td>12566.0</td>\n",
       "    </tr>\n",
       "    <tr>\n",
       "      <th>8</th>\n",
       "      <td>77905.0</td>\n",
       "      <td>79188.0</td>\n",
       "      <td>88597.0</td>\n",
       "      <td>92780.0</td>\n",
       "      <td>84397.0</td>\n",
       "      <td>49445.0</td>\n",
       "      <td>8460.0</td>\n",
       "    </tr>\n",
       "    <tr>\n",
       "      <th>9</th>\n",
       "      <td>87162.0</td>\n",
       "      <td>76402.0</td>\n",
       "      <td>76299.0</td>\n",
       "      <td>74841.0</td>\n",
       "      <td>80382.0</td>\n",
       "      <td>58622.0</td>\n",
       "      <td>11947.0</td>\n",
       "    </tr>\n",
       "    <tr>\n",
       "      <th>10</th>\n",
       "      <td>87885.0</td>\n",
       "      <td>87889.0</td>\n",
       "      <td>82784.0</td>\n",
       "      <td>74914.0</td>\n",
       "      <td>69381.0</td>\n",
       "      <td>46610.0</td>\n",
       "      <td>10622.0</td>\n",
       "    </tr>\n",
       "    <tr>\n",
       "      <th>11</th>\n",
       "      <td>85707.0</td>\n",
       "      <td>83462.0</td>\n",
       "      <td>87928.0</td>\n",
       "      <td>91566.0</td>\n",
       "      <td>98172.0</td>\n",
       "      <td>65107.0</td>\n",
       "      <td>15680.0</td>\n",
       "    </tr>\n",
       "    <tr>\n",
       "      <th>12</th>\n",
       "      <td>104509.0</td>\n",
       "      <td>98473.0</td>\n",
       "      <td>95928.0</td>\n",
       "      <td>97789.0</td>\n",
       "      <td>106718.0</td>\n",
       "      <td>77333.0</td>\n",
       "      <td>23904.0</td>\n",
       "    </tr>\n",
       "  </tbody>\n",
       "</table>\n",
       "</div>"
      ],
      "text/plain": [
       "Date         0         1        2        3         4        5        6\n",
       "1      88718.0   90551.0  94610.0  83337.0   78185.0  57839.0  13031.0\n",
       "2      79294.0   74653.0  76305.0  71410.0   72462.0  51496.0  10220.0\n",
       "3      70210.0   65381.0  72676.0  72714.0   77413.0  51104.0   9854.0\n",
       "4      65254.0   70335.0  64264.0  60581.0   59347.0  44071.0   9731.0\n",
       "5      60768.0   69202.0  74613.0  65208.0   65220.0  41866.0   7764.0\n",
       "6      66754.0   70978.0  73617.0  76212.0   80535.0  52398.0   9420.0\n",
       "7     113244.0  102701.0  95646.0  87650.0   78174.0  57179.0  12566.0\n",
       "8      77905.0   79188.0  88597.0  92780.0   84397.0  49445.0   8460.0\n",
       "9      87162.0   76402.0  76299.0  74841.0   80382.0  58622.0  11947.0\n",
       "10     87885.0   87889.0  82784.0  74914.0   69381.0  46610.0  10622.0\n",
       "11     85707.0   83462.0  87928.0  91566.0   98172.0  65107.0  15680.0\n",
       "12    104509.0   98473.0  95928.0  97789.0  106718.0  77333.0  23904.0"
      ]
     },
     "execution_count": 18,
     "metadata": {},
     "output_type": "execute_result"
    }
   ],
   "source": [
    "getBuysBallot(train_df,\"M\",\"WD\")"
   ]
  },
  {
   "cell_type": "code",
   "execution_count": 19,
   "metadata": {},
   "outputs": [
    {
     "data": {
      "application/vnd.plotly.v1+json": {
       "config": {
        "plotlyServerURL": "https://plot.ly"
       },
       "data": [
        {
         "line": {
          "color": "black",
          "width": 2
         },
         "name": "Seasonal mean",
         "type": "scatter",
         "x": [
          0,
          1,
          2,
          3,
          4,
          5,
          6
         ],
         "y": [
          82284.16666666667,
          80767.91666666667,
          81938.91666666667,
          79083.5,
          79198.83333333333,
          54422.5,
          11933.25
         ]
        },
        {
         "line": {
          "color": "black",
          "dash": "dash",
          "width": 1
         },
         "name": "Seasonal standard deviation",
         "type": "scatter",
         "x": [
          0,
          1,
          2,
          3,
          4,
          5,
          6
         ],
         "y": [
          15750.292544661646,
          11993.832410931678,
          10486.89932039307,
          11531.514215007026,
          13087.248942340322,
          9771.300588039352,
          4354.025642489321
         ]
        }
       ],
       "layout": {
        "template": {
         "data": {
          "bar": [
           {
            "error_x": {
             "color": "#2a3f5f"
            },
            "error_y": {
             "color": "#2a3f5f"
            },
            "marker": {
             "line": {
              "color": "#E5ECF6",
              "width": 0.5
             },
             "pattern": {
              "fillmode": "overlay",
              "size": 10,
              "solidity": 0.2
             }
            },
            "type": "bar"
           }
          ],
          "barpolar": [
           {
            "marker": {
             "line": {
              "color": "#E5ECF6",
              "width": 0.5
             },
             "pattern": {
              "fillmode": "overlay",
              "size": 10,
              "solidity": 0.2
             }
            },
            "type": "barpolar"
           }
          ],
          "carpet": [
           {
            "aaxis": {
             "endlinecolor": "#2a3f5f",
             "gridcolor": "white",
             "linecolor": "white",
             "minorgridcolor": "white",
             "startlinecolor": "#2a3f5f"
            },
            "baxis": {
             "endlinecolor": "#2a3f5f",
             "gridcolor": "white",
             "linecolor": "white",
             "minorgridcolor": "white",
             "startlinecolor": "#2a3f5f"
            },
            "type": "carpet"
           }
          ],
          "choropleth": [
           {
            "colorbar": {
             "outlinewidth": 0,
             "ticks": ""
            },
            "type": "choropleth"
           }
          ],
          "contour": [
           {
            "colorbar": {
             "outlinewidth": 0,
             "ticks": ""
            },
            "colorscale": [
             [
              0,
              "#0d0887"
             ],
             [
              0.1111111111111111,
              "#46039f"
             ],
             [
              0.2222222222222222,
              "#7201a8"
             ],
             [
              0.3333333333333333,
              "#9c179e"
             ],
             [
              0.4444444444444444,
              "#bd3786"
             ],
             [
              0.5555555555555556,
              "#d8576b"
             ],
             [
              0.6666666666666666,
              "#ed7953"
             ],
             [
              0.7777777777777778,
              "#fb9f3a"
             ],
             [
              0.8888888888888888,
              "#fdca26"
             ],
             [
              1,
              "#f0f921"
             ]
            ],
            "type": "contour"
           }
          ],
          "contourcarpet": [
           {
            "colorbar": {
             "outlinewidth": 0,
             "ticks": ""
            },
            "type": "contourcarpet"
           }
          ],
          "heatmap": [
           {
            "colorbar": {
             "outlinewidth": 0,
             "ticks": ""
            },
            "colorscale": [
             [
              0,
              "#0d0887"
             ],
             [
              0.1111111111111111,
              "#46039f"
             ],
             [
              0.2222222222222222,
              "#7201a8"
             ],
             [
              0.3333333333333333,
              "#9c179e"
             ],
             [
              0.4444444444444444,
              "#bd3786"
             ],
             [
              0.5555555555555556,
              "#d8576b"
             ],
             [
              0.6666666666666666,
              "#ed7953"
             ],
             [
              0.7777777777777778,
              "#fb9f3a"
             ],
             [
              0.8888888888888888,
              "#fdca26"
             ],
             [
              1,
              "#f0f921"
             ]
            ],
            "type": "heatmap"
           }
          ],
          "heatmapgl": [
           {
            "colorbar": {
             "outlinewidth": 0,
             "ticks": ""
            },
            "colorscale": [
             [
              0,
              "#0d0887"
             ],
             [
              0.1111111111111111,
              "#46039f"
             ],
             [
              0.2222222222222222,
              "#7201a8"
             ],
             [
              0.3333333333333333,
              "#9c179e"
             ],
             [
              0.4444444444444444,
              "#bd3786"
             ],
             [
              0.5555555555555556,
              "#d8576b"
             ],
             [
              0.6666666666666666,
              "#ed7953"
             ],
             [
              0.7777777777777778,
              "#fb9f3a"
             ],
             [
              0.8888888888888888,
              "#fdca26"
             ],
             [
              1,
              "#f0f921"
             ]
            ],
            "type": "heatmapgl"
           }
          ],
          "histogram": [
           {
            "marker": {
             "pattern": {
              "fillmode": "overlay",
              "size": 10,
              "solidity": 0.2
             }
            },
            "type": "histogram"
           }
          ],
          "histogram2d": [
           {
            "colorbar": {
             "outlinewidth": 0,
             "ticks": ""
            },
            "colorscale": [
             [
              0,
              "#0d0887"
             ],
             [
              0.1111111111111111,
              "#46039f"
             ],
             [
              0.2222222222222222,
              "#7201a8"
             ],
             [
              0.3333333333333333,
              "#9c179e"
             ],
             [
              0.4444444444444444,
              "#bd3786"
             ],
             [
              0.5555555555555556,
              "#d8576b"
             ],
             [
              0.6666666666666666,
              "#ed7953"
             ],
             [
              0.7777777777777778,
              "#fb9f3a"
             ],
             [
              0.8888888888888888,
              "#fdca26"
             ],
             [
              1,
              "#f0f921"
             ]
            ],
            "type": "histogram2d"
           }
          ],
          "histogram2dcontour": [
           {
            "colorbar": {
             "outlinewidth": 0,
             "ticks": ""
            },
            "colorscale": [
             [
              0,
              "#0d0887"
             ],
             [
              0.1111111111111111,
              "#46039f"
             ],
             [
              0.2222222222222222,
              "#7201a8"
             ],
             [
              0.3333333333333333,
              "#9c179e"
             ],
             [
              0.4444444444444444,
              "#bd3786"
             ],
             [
              0.5555555555555556,
              "#d8576b"
             ],
             [
              0.6666666666666666,
              "#ed7953"
             ],
             [
              0.7777777777777778,
              "#fb9f3a"
             ],
             [
              0.8888888888888888,
              "#fdca26"
             ],
             [
              1,
              "#f0f921"
             ]
            ],
            "type": "histogram2dcontour"
           }
          ],
          "mesh3d": [
           {
            "colorbar": {
             "outlinewidth": 0,
             "ticks": ""
            },
            "type": "mesh3d"
           }
          ],
          "parcoords": [
           {
            "line": {
             "colorbar": {
              "outlinewidth": 0,
              "ticks": ""
             }
            },
            "type": "parcoords"
           }
          ],
          "pie": [
           {
            "automargin": true,
            "type": "pie"
           }
          ],
          "scatter": [
           {
            "fillpattern": {
             "fillmode": "overlay",
             "size": 10,
             "solidity": 0.2
            },
            "type": "scatter"
           }
          ],
          "scatter3d": [
           {
            "line": {
             "colorbar": {
              "outlinewidth": 0,
              "ticks": ""
             }
            },
            "marker": {
             "colorbar": {
              "outlinewidth": 0,
              "ticks": ""
             }
            },
            "type": "scatter3d"
           }
          ],
          "scattercarpet": [
           {
            "marker": {
             "colorbar": {
              "outlinewidth": 0,
              "ticks": ""
             }
            },
            "type": "scattercarpet"
           }
          ],
          "scattergeo": [
           {
            "marker": {
             "colorbar": {
              "outlinewidth": 0,
              "ticks": ""
             }
            },
            "type": "scattergeo"
           }
          ],
          "scattergl": [
           {
            "marker": {
             "colorbar": {
              "outlinewidth": 0,
              "ticks": ""
             }
            },
            "type": "scattergl"
           }
          ],
          "scattermapbox": [
           {
            "marker": {
             "colorbar": {
              "outlinewidth": 0,
              "ticks": ""
             }
            },
            "type": "scattermapbox"
           }
          ],
          "scatterpolar": [
           {
            "marker": {
             "colorbar": {
              "outlinewidth": 0,
              "ticks": ""
             }
            },
            "type": "scatterpolar"
           }
          ],
          "scatterpolargl": [
           {
            "marker": {
             "colorbar": {
              "outlinewidth": 0,
              "ticks": ""
             }
            },
            "type": "scatterpolargl"
           }
          ],
          "scatterternary": [
           {
            "marker": {
             "colorbar": {
              "outlinewidth": 0,
              "ticks": ""
             }
            },
            "type": "scatterternary"
           }
          ],
          "surface": [
           {
            "colorbar": {
             "outlinewidth": 0,
             "ticks": ""
            },
            "colorscale": [
             [
              0,
              "#0d0887"
             ],
             [
              0.1111111111111111,
              "#46039f"
             ],
             [
              0.2222222222222222,
              "#7201a8"
             ],
             [
              0.3333333333333333,
              "#9c179e"
             ],
             [
              0.4444444444444444,
              "#bd3786"
             ],
             [
              0.5555555555555556,
              "#d8576b"
             ],
             [
              0.6666666666666666,
              "#ed7953"
             ],
             [
              0.7777777777777778,
              "#fb9f3a"
             ],
             [
              0.8888888888888888,
              "#fdca26"
             ],
             [
              1,
              "#f0f921"
             ]
            ],
            "type": "surface"
           }
          ],
          "table": [
           {
            "cells": {
             "fill": {
              "color": "#EBF0F8"
             },
             "line": {
              "color": "white"
             }
            },
            "header": {
             "fill": {
              "color": "#C8D4E3"
             },
             "line": {
              "color": "white"
             }
            },
            "type": "table"
           }
          ]
         },
         "layout": {
          "annotationdefaults": {
           "arrowcolor": "#2a3f5f",
           "arrowhead": 0,
           "arrowwidth": 1
          },
          "autotypenumbers": "strict",
          "coloraxis": {
           "colorbar": {
            "outlinewidth": 0,
            "ticks": ""
           }
          },
          "colorscale": {
           "diverging": [
            [
             0,
             "#8e0152"
            ],
            [
             0.1,
             "#c51b7d"
            ],
            [
             0.2,
             "#de77ae"
            ],
            [
             0.3,
             "#f1b6da"
            ],
            [
             0.4,
             "#fde0ef"
            ],
            [
             0.5,
             "#f7f7f7"
            ],
            [
             0.6,
             "#e6f5d0"
            ],
            [
             0.7,
             "#b8e186"
            ],
            [
             0.8,
             "#7fbc41"
            ],
            [
             0.9,
             "#4d9221"
            ],
            [
             1,
             "#276419"
            ]
           ],
           "sequential": [
            [
             0,
             "#0d0887"
            ],
            [
             0.1111111111111111,
             "#46039f"
            ],
            [
             0.2222222222222222,
             "#7201a8"
            ],
            [
             0.3333333333333333,
             "#9c179e"
            ],
            [
             0.4444444444444444,
             "#bd3786"
            ],
            [
             0.5555555555555556,
             "#d8576b"
            ],
            [
             0.6666666666666666,
             "#ed7953"
            ],
            [
             0.7777777777777778,
             "#fb9f3a"
            ],
            [
             0.8888888888888888,
             "#fdca26"
            ],
            [
             1,
             "#f0f921"
            ]
           ],
           "sequentialminus": [
            [
             0,
             "#0d0887"
            ],
            [
             0.1111111111111111,
             "#46039f"
            ],
            [
             0.2222222222222222,
             "#7201a8"
            ],
            [
             0.3333333333333333,
             "#9c179e"
            ],
            [
             0.4444444444444444,
             "#bd3786"
            ],
            [
             0.5555555555555556,
             "#d8576b"
            ],
            [
             0.6666666666666666,
             "#ed7953"
            ],
            [
             0.7777777777777778,
             "#fb9f3a"
            ],
            [
             0.8888888888888888,
             "#fdca26"
            ],
            [
             1,
             "#f0f921"
            ]
           ]
          },
          "colorway": [
           "#636efa",
           "#EF553B",
           "#00cc96",
           "#ab63fa",
           "#FFA15A",
           "#19d3f3",
           "#FF6692",
           "#B6E880",
           "#FF97FF",
           "#FECB52"
          ],
          "font": {
           "color": "#2a3f5f"
          },
          "geo": {
           "bgcolor": "white",
           "lakecolor": "white",
           "landcolor": "#E5ECF6",
           "showlakes": true,
           "showland": true,
           "subunitcolor": "white"
          },
          "hoverlabel": {
           "align": "left"
          },
          "hovermode": "closest",
          "mapbox": {
           "style": "light"
          },
          "paper_bgcolor": "white",
          "plot_bgcolor": "#E5ECF6",
          "polar": {
           "angularaxis": {
            "gridcolor": "white",
            "linecolor": "white",
            "ticks": ""
           },
           "bgcolor": "#E5ECF6",
           "radialaxis": {
            "gridcolor": "white",
            "linecolor": "white",
            "ticks": ""
           }
          },
          "scene": {
           "xaxis": {
            "backgroundcolor": "#E5ECF6",
            "gridcolor": "white",
            "gridwidth": 2,
            "linecolor": "white",
            "showbackground": true,
            "ticks": "",
            "zerolinecolor": "white"
           },
           "yaxis": {
            "backgroundcolor": "#E5ECF6",
            "gridcolor": "white",
            "gridwidth": 2,
            "linecolor": "white",
            "showbackground": true,
            "ticks": "",
            "zerolinecolor": "white"
           },
           "zaxis": {
            "backgroundcolor": "#E5ECF6",
            "gridcolor": "white",
            "gridwidth": 2,
            "linecolor": "white",
            "showbackground": true,
            "ticks": "",
            "zerolinecolor": "white"
           }
          },
          "shapedefaults": {
           "line": {
            "color": "#2a3f5f"
           }
          },
          "ternary": {
           "aaxis": {
            "gridcolor": "white",
            "linecolor": "white",
            "ticks": ""
           },
           "baxis": {
            "gridcolor": "white",
            "linecolor": "white",
            "ticks": ""
           },
           "bgcolor": "#E5ECF6",
           "caxis": {
            "gridcolor": "white",
            "linecolor": "white",
            "ticks": ""
           }
          },
          "title": {
           "x": 0.05
          },
          "xaxis": {
           "automargin": true,
           "gridcolor": "white",
           "linecolor": "white",
           "ticks": "",
           "title": {
            "standoff": 15
           },
           "zerolinecolor": "white",
           "zerolinewidth": 2
          },
          "yaxis": {
           "automargin": true,
           "gridcolor": "white",
           "linecolor": "white",
           "ticks": "",
           "title": {
            "standoff": 15
           },
           "zerolinecolor": "white",
           "zerolinewidth": 2
          }
         }
        },
        "title": {
         "text": "Relationship between the seasonal means and the seasonal pooled standard deviations"
        },
        "xaxis": {
         "title": {
          "text": "Period"
         }
        },
        "yaxis": {
         "title": {
          "text": "NUmber of calls"
         }
        }
       }
      }
     },
     "metadata": {},
     "output_type": "display_data"
    },
    {
     "data": {
      "text/plain": [
       "0.8888694911737144"
      ]
     },
     "execution_count": 19,
     "metadata": {},
     "output_type": "execute_result"
    }
   ],
   "source": [
    "mean_df = compute_mean(train_df,\"M\",\"WD\")\n",
    "std_df = compute_std(train_df,\"M\",\"WD\")\n",
    "\n",
    "plot_decomposition_type(mean_df,std_df)\n",
    "std_df.corr(mean_df)"
   ]
  },
  {
   "cell_type": "markdown",
   "metadata": {},
   "source": [
    "### **`Period: Month & Season: Day`**"
   ]
  },
  {
   "cell_type": "code",
   "execution_count": 20,
   "metadata": {},
   "outputs": [
    {
     "data": {
      "text/html": [
       "<div>\n",
       "<style scoped>\n",
       "    .dataframe tbody tr th:only-of-type {\n",
       "        vertical-align: middle;\n",
       "    }\n",
       "\n",
       "    .dataframe tbody tr th {\n",
       "        vertical-align: top;\n",
       "    }\n",
       "\n",
       "    .dataframe thead th {\n",
       "        text-align: right;\n",
       "    }\n",
       "</style>\n",
       "<table border=\"1\" class=\"dataframe\">\n",
       "  <thead>\n",
       "    <tr style=\"text-align: right;\">\n",
       "      <th>Date</th>\n",
       "      <th>0</th>\n",
       "      <th>1</th>\n",
       "      <th>2</th>\n",
       "      <th>3</th>\n",
       "      <th>4</th>\n",
       "      <th>5</th>\n",
       "      <th>6</th>\n",
       "    </tr>\n",
       "  </thead>\n",
       "  <tbody>\n",
       "    <tr>\n",
       "      <th>1</th>\n",
       "      <td>14477.0</td>\n",
       "      <td>16762.0</td>\n",
       "      <td>18541.0</td>\n",
       "      <td>18166.0</td>\n",
       "      <td>18088.0</td>\n",
       "      <td>12775.0</td>\n",
       "      <td>2300.0</td>\n",
       "    </tr>\n",
       "    <tr>\n",
       "      <th>2</th>\n",
       "      <td>18319.0</td>\n",
       "      <td>17253.0</td>\n",
       "      <td>19934.0</td>\n",
       "      <td>19928.0</td>\n",
       "      <td>20433.0</td>\n",
       "      <td>15623.0</td>\n",
       "      <td>4063.0</td>\n",
       "    </tr>\n",
       "    <tr>\n",
       "      <th>3</th>\n",
       "      <td>22084.0</td>\n",
       "      <td>21171.0</td>\n",
       "      <td>22009.0</td>\n",
       "      <td>20505.0</td>\n",
       "      <td>20182.0</td>\n",
       "      <td>14903.0</td>\n",
       "      <td>3312.0</td>\n",
       "    </tr>\n",
       "    <tr>\n",
       "      <th>4</th>\n",
       "      <td>21356.0</td>\n",
       "      <td>20190.0</td>\n",
       "      <td>20772.0</td>\n",
       "      <td>18466.0</td>\n",
       "      <td>19482.0</td>\n",
       "      <td>14538.0</td>\n",
       "      <td>3356.0</td>\n",
       "    </tr>\n",
       "    <tr>\n",
       "      <th>5</th>\n",
       "      <td>21185.0</td>\n",
       "      <td>19226.0</td>\n",
       "      <td>19658.0</td>\n",
       "      <td>18438.0</td>\n",
       "      <td>18680.0</td>\n",
       "      <td>13828.0</td>\n",
       "      <td>2851.0</td>\n",
       "    </tr>\n",
       "    <tr>\n",
       "      <th>6</th>\n",
       "      <td>20470.0</td>\n",
       "      <td>19601.0</td>\n",
       "      <td>20230.0</td>\n",
       "      <td>19309.0</td>\n",
       "      <td>19349.0</td>\n",
       "      <td>14234.0</td>\n",
       "      <td>2652.0</td>\n",
       "    </tr>\n",
       "    <tr>\n",
       "      <th>7</th>\n",
       "      <td>21838.0</td>\n",
       "      <td>20480.0</td>\n",
       "      <td>20483.0</td>\n",
       "      <td>18653.0</td>\n",
       "      <td>18587.0</td>\n",
       "      <td>12461.0</td>\n",
       "      <td>2495.0</td>\n",
       "    </tr>\n",
       "    <tr>\n",
       "      <th>8</th>\n",
       "      <td>19399.0</td>\n",
       "      <td>18124.0</td>\n",
       "      <td>18316.0</td>\n",
       "      <td>16733.0</td>\n",
       "      <td>15846.0</td>\n",
       "      <td>10973.0</td>\n",
       "      <td>2222.0</td>\n",
       "    </tr>\n",
       "    <tr>\n",
       "      <th>9</th>\n",
       "      <td>17587.0</td>\n",
       "      <td>16448.0</td>\n",
       "      <td>16752.0</td>\n",
       "      <td>15803.0</td>\n",
       "      <td>15941.0</td>\n",
       "      <td>11373.0</td>\n",
       "      <td>2360.0</td>\n",
       "    </tr>\n",
       "    <tr>\n",
       "      <th>10</th>\n",
       "      <td>17746.0</td>\n",
       "      <td>16681.0</td>\n",
       "      <td>17394.0</td>\n",
       "      <td>15713.0</td>\n",
       "      <td>16107.0</td>\n",
       "      <td>11175.0</td>\n",
       "      <td>2317.0</td>\n",
       "    </tr>\n",
       "    <tr>\n",
       "      <th>11</th>\n",
       "      <td>18369.0</td>\n",
       "      <td>16866.0</td>\n",
       "      <td>16811.0</td>\n",
       "      <td>15935.0</td>\n",
       "      <td>15259.0</td>\n",
       "      <td>10933.0</td>\n",
       "      <td>2313.0</td>\n",
       "    </tr>\n",
       "    <tr>\n",
       "      <th>12</th>\n",
       "      <td>17407.0</td>\n",
       "      <td>16157.0</td>\n",
       "      <td>16686.0</td>\n",
       "      <td>15090.0</td>\n",
       "      <td>14902.0</td>\n",
       "      <td>10711.0</td>\n",
       "      <td>2168.0</td>\n",
       "    </tr>\n",
       "    <tr>\n",
       "      <th>13</th>\n",
       "      <td>16688.0</td>\n",
       "      <td>15677.0</td>\n",
       "      <td>16005.0</td>\n",
       "      <td>14722.0</td>\n",
       "      <td>15204.0</td>\n",
       "      <td>10458.0</td>\n",
       "      <td>2207.0</td>\n",
       "    </tr>\n",
       "    <tr>\n",
       "      <th>14</th>\n",
       "      <td>11812.0</td>\n",
       "      <td>16731.0</td>\n",
       "      <td>16542.0</td>\n",
       "      <td>15802.0</td>\n",
       "      <td>15063.0</td>\n",
       "      <td>10596.0</td>\n",
       "      <td>2311.0</td>\n",
       "    </tr>\n",
       "    <tr>\n",
       "      <th>15</th>\n",
       "      <td>17223.0</td>\n",
       "      <td>16926.0</td>\n",
       "      <td>16331.0</td>\n",
       "      <td>14947.0</td>\n",
       "      <td>14950.0</td>\n",
       "      <td>10044.0</td>\n",
       "      <td>1948.0</td>\n",
       "    </tr>\n",
       "    <tr>\n",
       "      <th>16</th>\n",
       "      <td>12435.0</td>\n",
       "      <td>16309.0</td>\n",
       "      <td>16180.0</td>\n",
       "      <td>15465.0</td>\n",
       "      <td>14510.0</td>\n",
       "      <td>9402.0</td>\n",
       "      <td>1791.0</td>\n",
       "    </tr>\n",
       "    <tr>\n",
       "      <th>17</th>\n",
       "      <td>12483.0</td>\n",
       "      <td>15482.0</td>\n",
       "      <td>15211.0</td>\n",
       "      <td>14367.0</td>\n",
       "      <td>14824.0</td>\n",
       "      <td>10483.0</td>\n",
       "      <td>2170.0</td>\n",
       "    </tr>\n",
       "    <tr>\n",
       "      <th>18</th>\n",
       "      <td>11301.0</td>\n",
       "      <td>11474.0</td>\n",
       "      <td>12741.0</td>\n",
       "      <td>16637.0</td>\n",
       "      <td>14869.0</td>\n",
       "      <td>10436.0</td>\n",
       "      <td>1757.0</td>\n",
       "    </tr>\n",
       "    <tr>\n",
       "      <th>19</th>\n",
       "      <td>12217.0</td>\n",
       "      <td>13260.0</td>\n",
       "      <td>13253.0</td>\n",
       "      <td>13370.0</td>\n",
       "      <td>15827.0</td>\n",
       "      <td>10501.0</td>\n",
       "      <td>2098.0</td>\n",
       "    </tr>\n",
       "    <tr>\n",
       "      <th>20</th>\n",
       "      <td>17462.0</td>\n",
       "      <td>16071.0</td>\n",
       "      <td>16031.0</td>\n",
       "      <td>15126.0</td>\n",
       "      <td>15035.0</td>\n",
       "      <td>10168.0</td>\n",
       "      <td>1820.0</td>\n",
       "    </tr>\n",
       "    <tr>\n",
       "      <th>21</th>\n",
       "      <td>13490.0</td>\n",
       "      <td>16597.0</td>\n",
       "      <td>15978.0</td>\n",
       "      <td>12917.0</td>\n",
       "      <td>15147.0</td>\n",
       "      <td>10761.0</td>\n",
       "      <td>2089.0</td>\n",
       "    </tr>\n",
       "    <tr>\n",
       "      <th>22</th>\n",
       "      <td>17599.0</td>\n",
       "      <td>16687.0</td>\n",
       "      <td>16610.0</td>\n",
       "      <td>12683.0</td>\n",
       "      <td>15058.0</td>\n",
       "      <td>10178.0</td>\n",
       "      <td>1961.0</td>\n",
       "    </tr>\n",
       "    <tr>\n",
       "      <th>23</th>\n",
       "      <td>13932.0</td>\n",
       "      <td>17061.0</td>\n",
       "      <td>17256.0</td>\n",
       "      <td>16480.0</td>\n",
       "      <td>15713.0</td>\n",
       "      <td>10512.0</td>\n",
       "      <td>2039.0</td>\n",
       "    </tr>\n",
       "    <tr>\n",
       "      <th>24</th>\n",
       "      <td>14560.0</td>\n",
       "      <td>17748.0</td>\n",
       "      <td>18049.0</td>\n",
       "      <td>17046.0</td>\n",
       "      <td>17605.0</td>\n",
       "      <td>11944.0</td>\n",
       "      <td>2178.0</td>\n",
       "    </tr>\n",
       "    <tr>\n",
       "      <th>25</th>\n",
       "      <td>19387.0</td>\n",
       "      <td>18359.0</td>\n",
       "      <td>18464.0</td>\n",
       "      <td>17171.0</td>\n",
       "      <td>16467.0</td>\n",
       "      <td>10826.0</td>\n",
       "      <td>2173.0</td>\n",
       "    </tr>\n",
       "    <tr>\n",
       "      <th>26</th>\n",
       "      <td>18875.0</td>\n",
       "      <td>17810.0</td>\n",
       "      <td>19848.0</td>\n",
       "      <td>19990.0</td>\n",
       "      <td>20034.0</td>\n",
       "      <td>13828.0</td>\n",
       "      <td>2957.0</td>\n",
       "    </tr>\n",
       "    <tr>\n",
       "      <th>27</th>\n",
       "      <td>22368.0</td>\n",
       "      <td>20408.0</td>\n",
       "      <td>22422.0</td>\n",
       "      <td>22379.0</td>\n",
       "      <td>21182.0</td>\n",
       "      <td>14452.0</td>\n",
       "      <td>3136.0</td>\n",
       "    </tr>\n",
       "    <tr>\n",
       "      <th>28</th>\n",
       "      <td>22744.0</td>\n",
       "      <td>24208.0</td>\n",
       "      <td>23425.0</td>\n",
       "      <td>22402.0</td>\n",
       "      <td>16424.0</td>\n",
       "      <td>11502.0</td>\n",
       "      <td>2620.0</td>\n",
       "    </tr>\n",
       "    <tr>\n",
       "      <th>29</th>\n",
       "      <td>23395.0</td>\n",
       "      <td>23222.0</td>\n",
       "      <td>22671.0</td>\n",
       "      <td>21901.0</td>\n",
       "      <td>20266.0</td>\n",
       "      <td>13422.0</td>\n",
       "      <td>2579.0</td>\n",
       "    </tr>\n",
       "    <tr>\n",
       "      <th>30</th>\n",
       "      <td>22591.0</td>\n",
       "      <td>21180.0</td>\n",
       "      <td>21114.0</td>\n",
       "      <td>20968.0</td>\n",
       "      <td>20302.0</td>\n",
       "      <td>12913.0</td>\n",
       "      <td>2343.0</td>\n",
       "    </tr>\n",
       "    <tr>\n",
       "      <th>31</th>\n",
       "      <td>22146.0</td>\n",
       "      <td>20950.0</td>\n",
       "      <td>21666.0</td>\n",
       "      <td>21725.0</td>\n",
       "      <td>19989.0</td>\n",
       "      <td>12306.0</td>\n",
       "      <td>2310.0</td>\n",
       "    </tr>\n",
       "    <tr>\n",
       "      <th>32</th>\n",
       "      <td>20350.0</td>\n",
       "      <td>19529.0</td>\n",
       "      <td>18971.0</td>\n",
       "      <td>18846.0</td>\n",
       "      <td>18002.0</td>\n",
       "      <td>10902.0</td>\n",
       "      <td>1914.0</td>\n",
       "    </tr>\n",
       "    <tr>\n",
       "      <th>33</th>\n",
       "      <td>17497.0</td>\n",
       "      <td>14132.0</td>\n",
       "      <td>15255.0</td>\n",
       "      <td>14675.0</td>\n",
       "      <td>17471.0</td>\n",
       "      <td>10741.0</td>\n",
       "      <td>2001.0</td>\n",
       "    </tr>\n",
       "    <tr>\n",
       "      <th>34</th>\n",
       "      <td>19937.0</td>\n",
       "      <td>19047.0</td>\n",
       "      <td>19161.0</td>\n",
       "      <td>18501.0</td>\n",
       "      <td>17615.0</td>\n",
       "      <td>11480.0</td>\n",
       "      <td>2235.0</td>\n",
       "    </tr>\n",
       "    <tr>\n",
       "      <th>35</th>\n",
       "      <td>20121.0</td>\n",
       "      <td>19213.0</td>\n",
       "      <td>19558.0</td>\n",
       "      <td>19033.0</td>\n",
       "      <td>18249.0</td>\n",
       "      <td>13083.0</td>\n",
       "      <td>2716.0</td>\n",
       "    </tr>\n",
       "    <tr>\n",
       "      <th>36</th>\n",
       "      <td>20416.0</td>\n",
       "      <td>19389.0</td>\n",
       "      <td>20211.0</td>\n",
       "      <td>21236.0</td>\n",
       "      <td>19118.0</td>\n",
       "      <td>13076.0</td>\n",
       "      <td>2687.0</td>\n",
       "    </tr>\n",
       "    <tr>\n",
       "      <th>37</th>\n",
       "      <td>21618.0</td>\n",
       "      <td>20085.0</td>\n",
       "      <td>19495.0</td>\n",
       "      <td>18572.0</td>\n",
       "      <td>19199.0</td>\n",
       "      <td>12446.0</td>\n",
       "      <td>2621.0</td>\n",
       "    </tr>\n",
       "    <tr>\n",
       "      <th>38</th>\n",
       "      <td>20488.0</td>\n",
       "      <td>19077.0</td>\n",
       "      <td>19044.0</td>\n",
       "      <td>18298.0</td>\n",
       "      <td>18155.0</td>\n",
       "      <td>11969.0</td>\n",
       "      <td>2382.0</td>\n",
       "    </tr>\n",
       "    <tr>\n",
       "      <th>39</th>\n",
       "      <td>18786.0</td>\n",
       "      <td>17851.0</td>\n",
       "      <td>17549.0</td>\n",
       "      <td>16735.0</td>\n",
       "      <td>16981.0</td>\n",
       "      <td>12064.0</td>\n",
       "      <td>2505.0</td>\n",
       "    </tr>\n",
       "    <tr>\n",
       "      <th>40</th>\n",
       "      <td>19355.0</td>\n",
       "      <td>18381.0</td>\n",
       "      <td>19087.0</td>\n",
       "      <td>19528.0</td>\n",
       "      <td>18661.0</td>\n",
       "      <td>12270.0</td>\n",
       "      <td>2452.0</td>\n",
       "    </tr>\n",
       "    <tr>\n",
       "      <th>41</th>\n",
       "      <td>19844.0</td>\n",
       "      <td>18706.0</td>\n",
       "      <td>18844.0</td>\n",
       "      <td>17644.0</td>\n",
       "      <td>17282.0</td>\n",
       "      <td>11515.0</td>\n",
       "      <td>2367.0</td>\n",
       "    </tr>\n",
       "    <tr>\n",
       "      <th>42</th>\n",
       "      <td>18534.0</td>\n",
       "      <td>17213.0</td>\n",
       "      <td>17516.0</td>\n",
       "      <td>16633.0</td>\n",
       "      <td>16864.0</td>\n",
       "      <td>11462.0</td>\n",
       "      <td>2346.0</td>\n",
       "    </tr>\n",
       "    <tr>\n",
       "      <th>43</th>\n",
       "      <td>17629.0</td>\n",
       "      <td>16695.0</td>\n",
       "      <td>16885.0</td>\n",
       "      <td>16106.0</td>\n",
       "      <td>16574.0</td>\n",
       "      <td>11363.0</td>\n",
       "      <td>2493.0</td>\n",
       "    </tr>\n",
       "    <tr>\n",
       "      <th>44</th>\n",
       "      <td>18377.0</td>\n",
       "      <td>16894.0</td>\n",
       "      <td>13117.0</td>\n",
       "      <td>14594.0</td>\n",
       "      <td>14544.0</td>\n",
       "      <td>11911.0</td>\n",
       "      <td>2465.0</td>\n",
       "    </tr>\n",
       "    <tr>\n",
       "      <th>45</th>\n",
       "      <td>19718.0</td>\n",
       "      <td>17935.0</td>\n",
       "      <td>18163.0</td>\n",
       "      <td>17147.0</td>\n",
       "      <td>17180.0</td>\n",
       "      <td>11389.0</td>\n",
       "      <td>2314.0</td>\n",
       "    </tr>\n",
       "    <tr>\n",
       "      <th>46</th>\n",
       "      <td>15758.0</td>\n",
       "      <td>18179.0</td>\n",
       "      <td>18708.0</td>\n",
       "      <td>17816.0</td>\n",
       "      <td>17462.0</td>\n",
       "      <td>11897.0</td>\n",
       "      <td>2437.0</td>\n",
       "    </tr>\n",
       "    <tr>\n",
       "      <th>47</th>\n",
       "      <td>19346.0</td>\n",
       "      <td>18706.0</td>\n",
       "      <td>19546.0</td>\n",
       "      <td>19591.0</td>\n",
       "      <td>29273.0</td>\n",
       "      <td>23198.0</td>\n",
       "      <td>8464.0</td>\n",
       "    </tr>\n",
       "    <tr>\n",
       "      <th>48</th>\n",
       "      <td>30885.0</td>\n",
       "      <td>28642.0</td>\n",
       "      <td>28846.0</td>\n",
       "      <td>27421.0</td>\n",
       "      <td>28903.0</td>\n",
       "      <td>18057.0</td>\n",
       "      <td>4997.0</td>\n",
       "    </tr>\n",
       "    <tr>\n",
       "      <th>49</th>\n",
       "      <td>26858.0</td>\n",
       "      <td>28470.0</td>\n",
       "      <td>26536.0</td>\n",
       "      <td>25383.0</td>\n",
       "      <td>25916.0</td>\n",
       "      <td>16971.0</td>\n",
       "      <td>5216.0</td>\n",
       "    </tr>\n",
       "    <tr>\n",
       "      <th>50</th>\n",
       "      <td>28222.0</td>\n",
       "      <td>25827.0</td>\n",
       "      <td>28157.0</td>\n",
       "      <td>24488.0</td>\n",
       "      <td>26135.0</td>\n",
       "      <td>18094.0</td>\n",
       "      <td>5678.0</td>\n",
       "    </tr>\n",
       "    <tr>\n",
       "      <th>51</th>\n",
       "      <td>28364.0</td>\n",
       "      <td>27462.0</td>\n",
       "      <td>28149.0</td>\n",
       "      <td>28985.0</td>\n",
       "      <td>27763.0</td>\n",
       "      <td>18941.0</td>\n",
       "      <td>5526.0</td>\n",
       "    </tr>\n",
       "    <tr>\n",
       "      <th>52</th>\n",
       "      <td>12362.0</td>\n",
       "      <td>12663.0</td>\n",
       "      <td>13086.0</td>\n",
       "      <td>18933.0</td>\n",
       "      <td>17714.0</td>\n",
       "      <td>11982.0</td>\n",
       "      <td>2487.0</td>\n",
       "    </tr>\n",
       "  </tbody>\n",
       "</table>\n",
       "</div>"
      ],
      "text/plain": [
       "Date        0        1        2        3        4        5       6\n",
       "1     14477.0  16762.0  18541.0  18166.0  18088.0  12775.0  2300.0\n",
       "2     18319.0  17253.0  19934.0  19928.0  20433.0  15623.0  4063.0\n",
       "3     22084.0  21171.0  22009.0  20505.0  20182.0  14903.0  3312.0\n",
       "4     21356.0  20190.0  20772.0  18466.0  19482.0  14538.0  3356.0\n",
       "5     21185.0  19226.0  19658.0  18438.0  18680.0  13828.0  2851.0\n",
       "6     20470.0  19601.0  20230.0  19309.0  19349.0  14234.0  2652.0\n",
       "7     21838.0  20480.0  20483.0  18653.0  18587.0  12461.0  2495.0\n",
       "8     19399.0  18124.0  18316.0  16733.0  15846.0  10973.0  2222.0\n",
       "9     17587.0  16448.0  16752.0  15803.0  15941.0  11373.0  2360.0\n",
       "10    17746.0  16681.0  17394.0  15713.0  16107.0  11175.0  2317.0\n",
       "11    18369.0  16866.0  16811.0  15935.0  15259.0  10933.0  2313.0\n",
       "12    17407.0  16157.0  16686.0  15090.0  14902.0  10711.0  2168.0\n",
       "13    16688.0  15677.0  16005.0  14722.0  15204.0  10458.0  2207.0\n",
       "14    11812.0  16731.0  16542.0  15802.0  15063.0  10596.0  2311.0\n",
       "15    17223.0  16926.0  16331.0  14947.0  14950.0  10044.0  1948.0\n",
       "16    12435.0  16309.0  16180.0  15465.0  14510.0   9402.0  1791.0\n",
       "17    12483.0  15482.0  15211.0  14367.0  14824.0  10483.0  2170.0\n",
       "18    11301.0  11474.0  12741.0  16637.0  14869.0  10436.0  1757.0\n",
       "19    12217.0  13260.0  13253.0  13370.0  15827.0  10501.0  2098.0\n",
       "20    17462.0  16071.0  16031.0  15126.0  15035.0  10168.0  1820.0\n",
       "21    13490.0  16597.0  15978.0  12917.0  15147.0  10761.0  2089.0\n",
       "22    17599.0  16687.0  16610.0  12683.0  15058.0  10178.0  1961.0\n",
       "23    13932.0  17061.0  17256.0  16480.0  15713.0  10512.0  2039.0\n",
       "24    14560.0  17748.0  18049.0  17046.0  17605.0  11944.0  2178.0\n",
       "25    19387.0  18359.0  18464.0  17171.0  16467.0  10826.0  2173.0\n",
       "26    18875.0  17810.0  19848.0  19990.0  20034.0  13828.0  2957.0\n",
       "27    22368.0  20408.0  22422.0  22379.0  21182.0  14452.0  3136.0\n",
       "28    22744.0  24208.0  23425.0  22402.0  16424.0  11502.0  2620.0\n",
       "29    23395.0  23222.0  22671.0  21901.0  20266.0  13422.0  2579.0\n",
       "30    22591.0  21180.0  21114.0  20968.0  20302.0  12913.0  2343.0\n",
       "31    22146.0  20950.0  21666.0  21725.0  19989.0  12306.0  2310.0\n",
       "32    20350.0  19529.0  18971.0  18846.0  18002.0  10902.0  1914.0\n",
       "33    17497.0  14132.0  15255.0  14675.0  17471.0  10741.0  2001.0\n",
       "34    19937.0  19047.0  19161.0  18501.0  17615.0  11480.0  2235.0\n",
       "35    20121.0  19213.0  19558.0  19033.0  18249.0  13083.0  2716.0\n",
       "36    20416.0  19389.0  20211.0  21236.0  19118.0  13076.0  2687.0\n",
       "37    21618.0  20085.0  19495.0  18572.0  19199.0  12446.0  2621.0\n",
       "38    20488.0  19077.0  19044.0  18298.0  18155.0  11969.0  2382.0\n",
       "39    18786.0  17851.0  17549.0  16735.0  16981.0  12064.0  2505.0\n",
       "40    19355.0  18381.0  19087.0  19528.0  18661.0  12270.0  2452.0\n",
       "41    19844.0  18706.0  18844.0  17644.0  17282.0  11515.0  2367.0\n",
       "42    18534.0  17213.0  17516.0  16633.0  16864.0  11462.0  2346.0\n",
       "43    17629.0  16695.0  16885.0  16106.0  16574.0  11363.0  2493.0\n",
       "44    18377.0  16894.0  13117.0  14594.0  14544.0  11911.0  2465.0\n",
       "45    19718.0  17935.0  18163.0  17147.0  17180.0  11389.0  2314.0\n",
       "46    15758.0  18179.0  18708.0  17816.0  17462.0  11897.0  2437.0\n",
       "47    19346.0  18706.0  19546.0  19591.0  29273.0  23198.0  8464.0\n",
       "48    30885.0  28642.0  28846.0  27421.0  28903.0  18057.0  4997.0\n",
       "49    26858.0  28470.0  26536.0  25383.0  25916.0  16971.0  5216.0\n",
       "50    28222.0  25827.0  28157.0  24488.0  26135.0  18094.0  5678.0\n",
       "51    28364.0  27462.0  28149.0  28985.0  27763.0  18941.0  5526.0\n",
       "52    12362.0  12663.0  13086.0  18933.0  17714.0  11982.0  2487.0"
      ]
     },
     "execution_count": 20,
     "metadata": {},
     "output_type": "execute_result"
    }
   ],
   "source": [
    "getBuysBallot(train_df,\"W\",\"WD\")"
   ]
  },
  {
   "cell_type": "code",
   "execution_count": 21,
   "metadata": {},
   "outputs": [
    {
     "data": {
      "application/vnd.plotly.v1+json": {
       "config": {
        "plotlyServerURL": "https://plot.ly"
       },
       "data": [
        {
         "line": {
          "color": "black",
          "width": 2
         },
         "name": "Seasonal mean",
         "type": "scatter",
         "x": [
          0,
          1,
          2,
          3,
          4,
          5,
          6
         ],
         "y": [
          82284.16666666667,
          80767.91666666667,
          81938.91666666667,
          79083.5,
          79198.83333333333,
          54422.5,
          11933.25
         ]
        },
        {
         "line": {
          "color": "black",
          "dash": "dash",
          "width": 1
         },
         "name": "Seasonal standard deviation",
         "type": "scatter",
         "x": [
          0,
          1,
          2,
          3,
          4,
          5,
          6
         ],
         "y": [
          15750.292544661646,
          11993.832410931678,
          10486.89932039307,
          11531.514215007026,
          13087.248942340322,
          9771.300588039352,
          4354.025642489321
         ]
        }
       ],
       "layout": {
        "template": {
         "data": {
          "bar": [
           {
            "error_x": {
             "color": "#2a3f5f"
            },
            "error_y": {
             "color": "#2a3f5f"
            },
            "marker": {
             "line": {
              "color": "#E5ECF6",
              "width": 0.5
             },
             "pattern": {
              "fillmode": "overlay",
              "size": 10,
              "solidity": 0.2
             }
            },
            "type": "bar"
           }
          ],
          "barpolar": [
           {
            "marker": {
             "line": {
              "color": "#E5ECF6",
              "width": 0.5
             },
             "pattern": {
              "fillmode": "overlay",
              "size": 10,
              "solidity": 0.2
             }
            },
            "type": "barpolar"
           }
          ],
          "carpet": [
           {
            "aaxis": {
             "endlinecolor": "#2a3f5f",
             "gridcolor": "white",
             "linecolor": "white",
             "minorgridcolor": "white",
             "startlinecolor": "#2a3f5f"
            },
            "baxis": {
             "endlinecolor": "#2a3f5f",
             "gridcolor": "white",
             "linecolor": "white",
             "minorgridcolor": "white",
             "startlinecolor": "#2a3f5f"
            },
            "type": "carpet"
           }
          ],
          "choropleth": [
           {
            "colorbar": {
             "outlinewidth": 0,
             "ticks": ""
            },
            "type": "choropleth"
           }
          ],
          "contour": [
           {
            "colorbar": {
             "outlinewidth": 0,
             "ticks": ""
            },
            "colorscale": [
             [
              0,
              "#0d0887"
             ],
             [
              0.1111111111111111,
              "#46039f"
             ],
             [
              0.2222222222222222,
              "#7201a8"
             ],
             [
              0.3333333333333333,
              "#9c179e"
             ],
             [
              0.4444444444444444,
              "#bd3786"
             ],
             [
              0.5555555555555556,
              "#d8576b"
             ],
             [
              0.6666666666666666,
              "#ed7953"
             ],
             [
              0.7777777777777778,
              "#fb9f3a"
             ],
             [
              0.8888888888888888,
              "#fdca26"
             ],
             [
              1,
              "#f0f921"
             ]
            ],
            "type": "contour"
           }
          ],
          "contourcarpet": [
           {
            "colorbar": {
             "outlinewidth": 0,
             "ticks": ""
            },
            "type": "contourcarpet"
           }
          ],
          "heatmap": [
           {
            "colorbar": {
             "outlinewidth": 0,
             "ticks": ""
            },
            "colorscale": [
             [
              0,
              "#0d0887"
             ],
             [
              0.1111111111111111,
              "#46039f"
             ],
             [
              0.2222222222222222,
              "#7201a8"
             ],
             [
              0.3333333333333333,
              "#9c179e"
             ],
             [
              0.4444444444444444,
              "#bd3786"
             ],
             [
              0.5555555555555556,
              "#d8576b"
             ],
             [
              0.6666666666666666,
              "#ed7953"
             ],
             [
              0.7777777777777778,
              "#fb9f3a"
             ],
             [
              0.8888888888888888,
              "#fdca26"
             ],
             [
              1,
              "#f0f921"
             ]
            ],
            "type": "heatmap"
           }
          ],
          "heatmapgl": [
           {
            "colorbar": {
             "outlinewidth": 0,
             "ticks": ""
            },
            "colorscale": [
             [
              0,
              "#0d0887"
             ],
             [
              0.1111111111111111,
              "#46039f"
             ],
             [
              0.2222222222222222,
              "#7201a8"
             ],
             [
              0.3333333333333333,
              "#9c179e"
             ],
             [
              0.4444444444444444,
              "#bd3786"
             ],
             [
              0.5555555555555556,
              "#d8576b"
             ],
             [
              0.6666666666666666,
              "#ed7953"
             ],
             [
              0.7777777777777778,
              "#fb9f3a"
             ],
             [
              0.8888888888888888,
              "#fdca26"
             ],
             [
              1,
              "#f0f921"
             ]
            ],
            "type": "heatmapgl"
           }
          ],
          "histogram": [
           {
            "marker": {
             "pattern": {
              "fillmode": "overlay",
              "size": 10,
              "solidity": 0.2
             }
            },
            "type": "histogram"
           }
          ],
          "histogram2d": [
           {
            "colorbar": {
             "outlinewidth": 0,
             "ticks": ""
            },
            "colorscale": [
             [
              0,
              "#0d0887"
             ],
             [
              0.1111111111111111,
              "#46039f"
             ],
             [
              0.2222222222222222,
              "#7201a8"
             ],
             [
              0.3333333333333333,
              "#9c179e"
             ],
             [
              0.4444444444444444,
              "#bd3786"
             ],
             [
              0.5555555555555556,
              "#d8576b"
             ],
             [
              0.6666666666666666,
              "#ed7953"
             ],
             [
              0.7777777777777778,
              "#fb9f3a"
             ],
             [
              0.8888888888888888,
              "#fdca26"
             ],
             [
              1,
              "#f0f921"
             ]
            ],
            "type": "histogram2d"
           }
          ],
          "histogram2dcontour": [
           {
            "colorbar": {
             "outlinewidth": 0,
             "ticks": ""
            },
            "colorscale": [
             [
              0,
              "#0d0887"
             ],
             [
              0.1111111111111111,
              "#46039f"
             ],
             [
              0.2222222222222222,
              "#7201a8"
             ],
             [
              0.3333333333333333,
              "#9c179e"
             ],
             [
              0.4444444444444444,
              "#bd3786"
             ],
             [
              0.5555555555555556,
              "#d8576b"
             ],
             [
              0.6666666666666666,
              "#ed7953"
             ],
             [
              0.7777777777777778,
              "#fb9f3a"
             ],
             [
              0.8888888888888888,
              "#fdca26"
             ],
             [
              1,
              "#f0f921"
             ]
            ],
            "type": "histogram2dcontour"
           }
          ],
          "mesh3d": [
           {
            "colorbar": {
             "outlinewidth": 0,
             "ticks": ""
            },
            "type": "mesh3d"
           }
          ],
          "parcoords": [
           {
            "line": {
             "colorbar": {
              "outlinewidth": 0,
              "ticks": ""
             }
            },
            "type": "parcoords"
           }
          ],
          "pie": [
           {
            "automargin": true,
            "type": "pie"
           }
          ],
          "scatter": [
           {
            "fillpattern": {
             "fillmode": "overlay",
             "size": 10,
             "solidity": 0.2
            },
            "type": "scatter"
           }
          ],
          "scatter3d": [
           {
            "line": {
             "colorbar": {
              "outlinewidth": 0,
              "ticks": ""
             }
            },
            "marker": {
             "colorbar": {
              "outlinewidth": 0,
              "ticks": ""
             }
            },
            "type": "scatter3d"
           }
          ],
          "scattercarpet": [
           {
            "marker": {
             "colorbar": {
              "outlinewidth": 0,
              "ticks": ""
             }
            },
            "type": "scattercarpet"
           }
          ],
          "scattergeo": [
           {
            "marker": {
             "colorbar": {
              "outlinewidth": 0,
              "ticks": ""
             }
            },
            "type": "scattergeo"
           }
          ],
          "scattergl": [
           {
            "marker": {
             "colorbar": {
              "outlinewidth": 0,
              "ticks": ""
             }
            },
            "type": "scattergl"
           }
          ],
          "scattermapbox": [
           {
            "marker": {
             "colorbar": {
              "outlinewidth": 0,
              "ticks": ""
             }
            },
            "type": "scattermapbox"
           }
          ],
          "scatterpolar": [
           {
            "marker": {
             "colorbar": {
              "outlinewidth": 0,
              "ticks": ""
             }
            },
            "type": "scatterpolar"
           }
          ],
          "scatterpolargl": [
           {
            "marker": {
             "colorbar": {
              "outlinewidth": 0,
              "ticks": ""
             }
            },
            "type": "scatterpolargl"
           }
          ],
          "scatterternary": [
           {
            "marker": {
             "colorbar": {
              "outlinewidth": 0,
              "ticks": ""
             }
            },
            "type": "scatterternary"
           }
          ],
          "surface": [
           {
            "colorbar": {
             "outlinewidth": 0,
             "ticks": ""
            },
            "colorscale": [
             [
              0,
              "#0d0887"
             ],
             [
              0.1111111111111111,
              "#46039f"
             ],
             [
              0.2222222222222222,
              "#7201a8"
             ],
             [
              0.3333333333333333,
              "#9c179e"
             ],
             [
              0.4444444444444444,
              "#bd3786"
             ],
             [
              0.5555555555555556,
              "#d8576b"
             ],
             [
              0.6666666666666666,
              "#ed7953"
             ],
             [
              0.7777777777777778,
              "#fb9f3a"
             ],
             [
              0.8888888888888888,
              "#fdca26"
             ],
             [
              1,
              "#f0f921"
             ]
            ],
            "type": "surface"
           }
          ],
          "table": [
           {
            "cells": {
             "fill": {
              "color": "#EBF0F8"
             },
             "line": {
              "color": "white"
             }
            },
            "header": {
             "fill": {
              "color": "#C8D4E3"
             },
             "line": {
              "color": "white"
             }
            },
            "type": "table"
           }
          ]
         },
         "layout": {
          "annotationdefaults": {
           "arrowcolor": "#2a3f5f",
           "arrowhead": 0,
           "arrowwidth": 1
          },
          "autotypenumbers": "strict",
          "coloraxis": {
           "colorbar": {
            "outlinewidth": 0,
            "ticks": ""
           }
          },
          "colorscale": {
           "diverging": [
            [
             0,
             "#8e0152"
            ],
            [
             0.1,
             "#c51b7d"
            ],
            [
             0.2,
             "#de77ae"
            ],
            [
             0.3,
             "#f1b6da"
            ],
            [
             0.4,
             "#fde0ef"
            ],
            [
             0.5,
             "#f7f7f7"
            ],
            [
             0.6,
             "#e6f5d0"
            ],
            [
             0.7,
             "#b8e186"
            ],
            [
             0.8,
             "#7fbc41"
            ],
            [
             0.9,
             "#4d9221"
            ],
            [
             1,
             "#276419"
            ]
           ],
           "sequential": [
            [
             0,
             "#0d0887"
            ],
            [
             0.1111111111111111,
             "#46039f"
            ],
            [
             0.2222222222222222,
             "#7201a8"
            ],
            [
             0.3333333333333333,
             "#9c179e"
            ],
            [
             0.4444444444444444,
             "#bd3786"
            ],
            [
             0.5555555555555556,
             "#d8576b"
            ],
            [
             0.6666666666666666,
             "#ed7953"
            ],
            [
             0.7777777777777778,
             "#fb9f3a"
            ],
            [
             0.8888888888888888,
             "#fdca26"
            ],
            [
             1,
             "#f0f921"
            ]
           ],
           "sequentialminus": [
            [
             0,
             "#0d0887"
            ],
            [
             0.1111111111111111,
             "#46039f"
            ],
            [
             0.2222222222222222,
             "#7201a8"
            ],
            [
             0.3333333333333333,
             "#9c179e"
            ],
            [
             0.4444444444444444,
             "#bd3786"
            ],
            [
             0.5555555555555556,
             "#d8576b"
            ],
            [
             0.6666666666666666,
             "#ed7953"
            ],
            [
             0.7777777777777778,
             "#fb9f3a"
            ],
            [
             0.8888888888888888,
             "#fdca26"
            ],
            [
             1,
             "#f0f921"
            ]
           ]
          },
          "colorway": [
           "#636efa",
           "#EF553B",
           "#00cc96",
           "#ab63fa",
           "#FFA15A",
           "#19d3f3",
           "#FF6692",
           "#B6E880",
           "#FF97FF",
           "#FECB52"
          ],
          "font": {
           "color": "#2a3f5f"
          },
          "geo": {
           "bgcolor": "white",
           "lakecolor": "white",
           "landcolor": "#E5ECF6",
           "showlakes": true,
           "showland": true,
           "subunitcolor": "white"
          },
          "hoverlabel": {
           "align": "left"
          },
          "hovermode": "closest",
          "mapbox": {
           "style": "light"
          },
          "paper_bgcolor": "white",
          "plot_bgcolor": "#E5ECF6",
          "polar": {
           "angularaxis": {
            "gridcolor": "white",
            "linecolor": "white",
            "ticks": ""
           },
           "bgcolor": "#E5ECF6",
           "radialaxis": {
            "gridcolor": "white",
            "linecolor": "white",
            "ticks": ""
           }
          },
          "scene": {
           "xaxis": {
            "backgroundcolor": "#E5ECF6",
            "gridcolor": "white",
            "gridwidth": 2,
            "linecolor": "white",
            "showbackground": true,
            "ticks": "",
            "zerolinecolor": "white"
           },
           "yaxis": {
            "backgroundcolor": "#E5ECF6",
            "gridcolor": "white",
            "gridwidth": 2,
            "linecolor": "white",
            "showbackground": true,
            "ticks": "",
            "zerolinecolor": "white"
           },
           "zaxis": {
            "backgroundcolor": "#E5ECF6",
            "gridcolor": "white",
            "gridwidth": 2,
            "linecolor": "white",
            "showbackground": true,
            "ticks": "",
            "zerolinecolor": "white"
           }
          },
          "shapedefaults": {
           "line": {
            "color": "#2a3f5f"
           }
          },
          "ternary": {
           "aaxis": {
            "gridcolor": "white",
            "linecolor": "white",
            "ticks": ""
           },
           "baxis": {
            "gridcolor": "white",
            "linecolor": "white",
            "ticks": ""
           },
           "bgcolor": "#E5ECF6",
           "caxis": {
            "gridcolor": "white",
            "linecolor": "white",
            "ticks": ""
           }
          },
          "title": {
           "x": 0.05
          },
          "xaxis": {
           "automargin": true,
           "gridcolor": "white",
           "linecolor": "white",
           "ticks": "",
           "title": {
            "standoff": 15
           },
           "zerolinecolor": "white",
           "zerolinewidth": 2
          },
          "yaxis": {
           "automargin": true,
           "gridcolor": "white",
           "linecolor": "white",
           "ticks": "",
           "title": {
            "standoff": 15
           },
           "zerolinecolor": "white",
           "zerolinewidth": 2
          }
         }
        },
        "title": {
         "text": "Relationship between the seasonal means and the seasonal pooled standard deviations"
        },
        "xaxis": {
         "title": {
          "text": "Period"
         }
        },
        "yaxis": {
         "title": {
          "text": "NUmber of calls"
         }
        }
       }
      }
     },
     "metadata": {},
     "output_type": "display_data"
    },
    {
     "data": {
      "text/plain": [
       "0.8888694911737144"
      ]
     },
     "execution_count": 21,
     "metadata": {},
     "output_type": "execute_result"
    }
   ],
   "source": [
    "mean_df = compute_mean(train_df,\"M\",\"WD\")\n",
    "std_df = compute_std(train_df,\"M\",\"WD\")\n",
    "\n",
    "plot_decomposition_type(mean_df,std_df)\n",
    "std_df.corr(mean_df)"
   ]
  },
  {
   "cell_type": "code",
   "execution_count": null,
   "metadata": {},
   "outputs": [],
   "source": []
  },
  {
   "cell_type": "code",
   "execution_count": null,
   "metadata": {},
   "outputs": [],
   "source": []
  },
  {
   "cell_type": "markdown",
   "metadata": {},
   "source": [
    "### **`Correlation`**"
   ]
  },
  {
   "cell_type": "code",
   "execution_count": 22,
   "metadata": {},
   "outputs": [
    {
     "data": {
      "text/html": [
       "<div>\n",
       "<style scoped>\n",
       "    .dataframe tbody tr th:only-of-type {\n",
       "        vertical-align: middle;\n",
       "    }\n",
       "\n",
       "    .dataframe tbody tr th {\n",
       "        vertical-align: top;\n",
       "    }\n",
       "\n",
       "    .dataframe thead th {\n",
       "        text-align: right;\n",
       "    }\n",
       "</style>\n",
       "<table border=\"1\" class=\"dataframe\">\n",
       "  <thead>\n",
       "    <tr style=\"text-align: right;\">\n",
       "      <th></th>\n",
       "      <th>P:Y&amp;S:M</th>\n",
       "      <th>P:Y&amp;S:W</th>\n",
       "      <th>P:Y&amp;S:WD</th>\n",
       "      <th>P:Y&amp;S:D</th>\n",
       "      <th>P:M&amp;S:M</th>\n",
       "      <th>P:M&amp;S:W</th>\n",
       "      <th>P:M&amp;S:WD</th>\n",
       "      <th>P:M&amp;S:D</th>\n",
       "      <th>P:W&amp;S:M</th>\n",
       "      <th>P:W&amp;S:W</th>\n",
       "      <th>P:W&amp;S:WD</th>\n",
       "      <th>P:W&amp;S:D</th>\n",
       "    </tr>\n",
       "  </thead>\n",
       "  <tbody>\n",
       "    <tr>\n",
       "      <th>correlation</th>\n",
       "      <td>0.49295</td>\n",
       "      <td>0.496018</td>\n",
       "      <td>0.73968</td>\n",
       "      <td>-0.342954</td>\n",
       "      <td>NaN</td>\n",
       "      <td>-0.939555</td>\n",
       "      <td>0.888869</td>\n",
       "      <td>NaN</td>\n",
       "      <td>1.0</td>\n",
       "      <td>NaN</td>\n",
       "      <td>0.971735</td>\n",
       "      <td>0.498822</td>\n",
       "    </tr>\n",
       "  </tbody>\n",
       "</table>\n",
       "</div>"
      ],
      "text/plain": [
       "             P:Y&S:M   P:Y&S:W  P:Y&S:WD   P:Y&S:D  P:M&S:M   P:M&S:W  \\\n",
       "correlation  0.49295  0.496018   0.73968 -0.342954      NaN -0.939555   \n",
       "\n",
       "             P:M&S:WD  P:M&S:D  P:W&S:M  P:W&S:W  P:W&S:WD   P:W&S:D  \n",
       "correlation  0.888869      NaN      1.0      NaN  0.971735  0.498822  "
      ]
     },
     "execution_count": 22,
     "metadata": {},
     "output_type": "execute_result"
    }
   ],
   "source": [
    "corr_dic = {}\n",
    "corr_df = pd.DataFrame()\n",
    "\n",
    "for period in ['Y','M','W']:\n",
    "    for season in ['M','W','WD','D']:\n",
    "        mean_df = compute_mean(train_df,period,season)\n",
    "        std_df = compute_std(train_df,period,season)\n",
    "        corr_dic[f\"P:{period}&S:{season}\"] = std_df.corr(mean_df)\n",
    "\n",
    "for key in corr_dic.keys():\n",
    "    corr_df[key] = [corr_dic[key]]\n",
    "corr_df.rename(index={0: 'correlation'},inplace=True)\n",
    "corr_df"
   ]
  },
  {
   "cell_type": "code",
   "execution_count": null,
   "metadata": {},
   "outputs": [],
   "source": []
  }
 ],
 "metadata": {
  "kernelspec": {
   "display_name": "Python 3.8.10 64-bit",
   "language": "python",
   "name": "python3"
  },
  "language_info": {
   "codemirror_mode": {
    "name": "ipython",
    "version": 3
   },
   "file_extension": ".py",
   "mimetype": "text/x-python",
   "name": "python",
   "nbconvert_exporter": "python",
   "pygments_lexer": "ipython3",
   "version": "3.10.6"
  },
  "orig_nbformat": 4,
  "vscode": {
   "interpreter": {
    "hash": "916dbcbb3f70747c44a77c7bcd40155683ae19c65e1c03b4aa3499c5328201f1"
   }
  }
 },
 "nbformat": 4,
 "nbformat_minor": 2
}
